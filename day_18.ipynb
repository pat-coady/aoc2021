{
 "cells": [
  {
   "cell_type": "markdown",
   "id": "5c6288b2",
   "metadata": {},
   "source": [
    "## Advent of Code 2021 - Day 18"
   ]
  },
  {
   "cell_type": "markdown",
   "id": "0fe2b62e",
   "metadata": {
    "tags": []
   },
   "source": [
    "### Star 1"
   ]
  },
  {
   "cell_type": "code",
   "execution_count": 1,
   "id": "aabaa2cf",
   "metadata": {},
   "outputs": [],
   "source": [
    "def str_to_list(string):\n",
    "    l = list(string)\n",
    "    return [int(x) if x.isdigit() else x for x in l]\n",
    "\n",
    "def list_to_str(lst):\n",
    "    lst = [str(x) for x in lst]\n",
    "    return ''.join(lst)"
   ]
  },
  {
   "cell_type": "code",
   "execution_count": 2,
   "id": "0b7f334a",
   "metadata": {},
   "outputs": [],
   "source": [
    "def explode(pair):\n",
    "    nest = 0\n",
    "    left_num_idx, right_num_idx = -1, -1\n",
    "    explode = False\n",
    "    for i, c in enumerate(pair):\n",
    "        if c == '[' and not explode:\n",
    "            nest += 1\n",
    "            if (nest == 5):\n",
    "                explode = True\n",
    "                explode_idx = i\n",
    "                break\n",
    "        if c == ']':\n",
    "            nest -= 1\n",
    "        if isinstance(c, int):         # 1st number to left of explode\n",
    "            left_num_idx = i\n",
    "    if not explode:\n",
    "        return (False, pair)\n",
    "    for i in range(i + 4, len(pair)):  # 1st number to right of explode\n",
    "        if isinstance(pair[i], int):\n",
    "            right_num_idx = i\n",
    "            break\n",
    "    if left_num_idx > 0:\n",
    "        pair[left_num_idx] += pair[explode_idx + 1]\n",
    "    if right_num_idx > 0:\n",
    "        pair[right_num_idx] += pair[explode_idx + 3]\n",
    "    \n",
    "    return (True, pair[0:explode_idx] + [0] + pair[explode_idx + 5:])"
   ]
  },
  {
   "cell_type": "code",
   "execution_count": 3,
   "id": "d66fec61",
   "metadata": {},
   "outputs": [],
   "source": [
    "def split(pair):\n",
    "    split_idx = -1\n",
    "    for i, c in enumerate(pair):\n",
    "        if isinstance(c, int) and c > 9:\n",
    "            split_idx = i\n",
    "            break\n",
    "    if split_idx < 0:\n",
    "        return False, pair\n",
    "    insert = ['[', c // 2, ',', ((c // 2) + (c % 2)), ']']\n",
    "    \n",
    "    return True, pair[:i] + insert + pair[i+1:]    "
   ]
  },
  {
   "cell_type": "code",
   "execution_count": 4,
   "id": "957a0b84",
   "metadata": {},
   "outputs": [],
   "source": [
    "def reduce(pair):\n",
    "    splitted = True\n",
    "    while splitted:\n",
    "        exploded = True\n",
    "        while exploded:\n",
    "            exploded, pair = explode(pair)\n",
    "        splitted, pair = split(pair)\n",
    "    \n",
    "    return pair"
   ]
  },
  {
   "cell_type": "code",
   "execution_count": 5,
   "id": "418a5c87",
   "metadata": {},
   "outputs": [],
   "source": [
    "def magnitude(pair):\n",
    "    stack = []\n",
    "    for c in pair:\n",
    "        if c.isdigit():\n",
    "            stack.append(int(c))\n",
    "        if c == ']':\n",
    "            arg2 = stack.pop()\n",
    "            arg1 = stack.pop()\n",
    "            stack.append(3*arg1 + 2*arg2)\n",
    "    \n",
    "    return stack[0]"
   ]
  },
  {
   "cell_type": "code",
   "execution_count": 6,
   "id": "cf6c0fed",
   "metadata": {},
   "outputs": [],
   "source": [
    "def sum_list(pair_list):\n",
    "    sum_pair = str_to_list(pair_list[0])\n",
    "    for i in range(1, len(pair_list)):\n",
    "        sum_pair = ['['] + sum_pair + [','] + str_to_list(pair_list[i]) + [']']\n",
    "        sum_pair = reduce(sum_pair)\n",
    "    \n",
    "    return sum_pair"
   ]
  },
  {
   "cell_type": "code",
   "execution_count": 7,
   "id": "4f10723a",
   "metadata": {},
   "outputs": [
    {
     "name": "stdout",
     "output_type": "stream",
     "text": [
      "Magnitude of sum = 3935\n"
     ]
    }
   ],
   "source": [
    "with open('input_18_a.txt') as f:\n",
    "    homework = [x.strip() for x in f]\n",
    "\n",
    "pair = sum_list(homework)\n",
    "pair = list_to_str(pair)\n",
    "\n",
    "print(f'Magnitude of sum = {magnitude(pair)}')"
   ]
  },
  {
   "cell_type": "markdown",
   "id": "e03df6fb",
   "metadata": {},
   "source": [
    "### Star 2"
   ]
  },
  {
   "cell_type": "code",
   "execution_count": 8,
   "id": "c93ba81b",
   "metadata": {},
   "outputs": [
    {
     "name": "stdout",
     "output_type": "stream",
     "text": [
      "Maximum magnitude all pairs = 4669\n"
     ]
    }
   ],
   "source": [
    "max_mag = 0\n",
    "for i in range(len(homework)):\n",
    "    for j in range(len(homework)):\n",
    "        if i == j:\n",
    "            continue\n",
    "        pair = sum_list([homework[i], homework[j]])\n",
    "        pair = list_to_str(pair)\n",
    "        mag = magnitude(pair)\n",
    "        max_mag = max((max_mag, mag))\n",
    "            \n",
    "print(f'Maximum magnitude all pairs = {max_mag}')"
   ]
  }
 ],
 "metadata": {
  "kernelspec": {
   "display_name": "Python 3 (ipykernel)",
   "language": "python",
   "name": "python3"
  },
  "language_info": {
   "codemirror_mode": {
    "name": "ipython",
    "version": 3
   },
   "file_extension": ".py",
   "mimetype": "text/x-python",
   "name": "python",
   "nbconvert_exporter": "python",
   "pygments_lexer": "ipython3",
   "version": "3.8.12"
  }
 },
 "nbformat": 4,
 "nbformat_minor": 5
}
