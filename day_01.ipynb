{
 "cells": [
  {
   "cell_type": "markdown",
   "id": "5c6288b2",
   "metadata": {},
   "source": [
    "## Advent of Code 2021\n",
    "### Day 1\n",
    "\n",
    "Overkill, but wrote to handle streaming data so whole file doesn't need to be loaded into memory. Turns out the test file is very short and easily fits in memory."
   ]
  },
  {
   "cell_type": "code",
   "execution_count": 2,
   "id": "e061ed4e",
   "metadata": {},
   "outputs": [
    {
     "name": "stdout",
     "output_type": "stream",
     "text": [
      "Number of increasing depth readings (part I): 1387\n"
     ]
    }
   ],
   "source": [
    "# Star 1\n",
    "fn = 'input_01_a.txt'\n",
    "with open(fn) as f:\n",
    "    prev_depth = int(1e6)\n",
    "    num_increasing = 0\n",
    "    for line in f:\n",
    "        depth = int(line)\n",
    "        num_increasing += depth > prev_depth\n",
    "        prev_depth = depth\n",
    "print(f'Number of increasing depth readings (part I): {num_increasing}')"
   ]
  },
  {
   "cell_type": "code",
   "execution_count": 3,
   "id": "35a1d890",
   "metadata": {},
   "outputs": [
    {
     "name": "stdout",
     "output_type": "stream",
     "text": [
      "Number of increasing depth readings (part II): 1362\n"
     ]
    }
   ],
   "source": [
    "# Star 2\n",
    "with open(fn) as f:\n",
    "    num_increasing = 0\n",
    "    window = [int(1e6)] * 3\n",
    "    prev_depth = int(10e6)\n",
    "    for idx, line in enumerate(f):\n",
    "        window[idx % 3] = int(line)\n",
    "        depth = sum(window)\n",
    "        num_increasing += depth > prev_depth\n",
    "        prev_depth = depth\n",
    "print(f'Number of increasing depth readings (part II): {num_increasing}')"
   ]
  },
  {
   "cell_type": "code",
   "execution_count": 5,
   "id": "b41d3bf9",
   "metadata": {},
   "outputs": [
    {
     "name": "stdout",
     "output_type": "stream",
     "text": [
      "Number of increasing depth readings (part II): 1362\n"
     ]
    }
   ],
   "source": [
    "# Star 2 w/ Nick's insight\n",
    "with open(fn) as f:\n",
    "    num_increasing = 0\n",
    "    window = [int(1e6)] * 4\n",
    "    for idx, line in enumerate(f):\n",
    "        window[idx % 4] = int(line)\n",
    "        num_increasing += window[idx % 4] > window[(idx+1) % 4]\n",
    "print(f'Number of increasing depth readings (part II): {num_increasing}')"
   ]
  },
  {
   "cell_type": "code",
   "execution_count": null,
   "id": "d212f9b9",
   "metadata": {},
   "outputs": [],
   "source": []
  }
 ],
 "metadata": {
  "kernelspec": {
   "display_name": "Python 3",
   "language": "python",
   "name": "python3"
  },
  "language_info": {
   "codemirror_mode": {
    "name": "ipython",
    "version": 3
   },
   "file_extension": ".py",
   "mimetype": "text/x-python",
   "name": "python",
   "nbconvert_exporter": "python",
   "pygments_lexer": "ipython3",
   "version": "3.7.10"
  }
 },
 "nbformat": 4,
 "nbformat_minor": 5
}
