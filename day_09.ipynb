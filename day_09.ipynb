{
 "cells": [
  {
   "cell_type": "markdown",
   "id": "5c6288b2",
   "metadata": {},
   "source": [
    "## Advent of Code 2021 - Day 9"
   ]
  },
  {
   "cell_type": "markdown",
   "id": "0fe2b62e",
   "metadata": {},
   "source": [
    "### Star 1"
   ]
  },
  {
   "cell_type": "code",
   "execution_count": 1,
   "id": "ec989058",
   "metadata": {},
   "outputs": [],
   "source": [
    "import numpy as np"
   ]
  },
  {
   "cell_type": "code",
   "execution_count": 2,
   "id": "e061ed4e",
   "metadata": {},
   "outputs": [],
   "source": [
    "fn = 'input_09_a.txt'\n",
    "\n",
    "with open(fn) as f:\n",
    "    smap = [[int(x) for x in line.strip()] for line in f]\n",
    "seamap = np.pad(np.array(smap), 1, constant_values=9)"
   ]
  },
  {
   "cell_type": "code",
   "execution_count": 3,
   "id": "9e4615c5",
   "metadata": {},
   "outputs": [
    {
     "name": "stdout",
     "output_type": "stream",
     "text": [
      "Sum of risk levels = 1412\n"
     ]
    }
   ],
   "source": [
    "risk_sum = 0\n",
    "basins = []\n",
    "for i in range(1, seamap.shape[0] - 1):\n",
    "    for j in range(1, seamap.shape[1] - 1):\n",
    "        pos = (i, j)\n",
    "        low_point = True\n",
    "        for direction in [(1, 0), (-1, 0), (0, 1), (0, -1)]:\n",
    "            next_pos = (pos[0]+direction[0], pos[1]+direction[1])\n",
    "            if seamap[next_pos] < seamap[pos]:\n",
    "                low_point = False\n",
    "        if low_point:\n",
    "            depth = seamap[pos]\n",
    "            risk_sum += depth + 1\n",
    "            basins.extend(((pos, depth),))\n",
    "\n",
    "print(f'Sum of risk levels = {risk_sum}')"
   ]
  },
  {
   "cell_type": "markdown",
   "id": "eb88b279",
   "metadata": {},
   "source": [
    "### Star 2"
   ]
  },
  {
   "cell_type": "code",
   "execution_count": 4,
   "id": "d48aa66f",
   "metadata": {},
   "outputs": [],
   "source": [
    "def basin_size(basin_map, pos):\n",
    "    '''Recursive depth-first search.'''\n",
    "    if basin_map[pos] == True:  # outside basin or already visited\n",
    "        return 0\n",
    "    basin_map[pos] = True       # mark as visited\n",
    "    basin_sum = 1\n",
    "    for direction in [(1, 0), (-1, 0), (0, 1), (0, -1)]:\n",
    "        next_pos = (pos[0]+direction[0], pos[1]+direction[1])\n",
    "        basin_sum += basin_size(basin_map, next_pos)\n",
    "        \n",
    "    return basin_sum    "
   ]
  },
  {
   "cell_type": "code",
   "execution_count": 5,
   "id": "d060d6c2",
   "metadata": {},
   "outputs": [
    {
     "name": "stdout",
     "output_type": "stream",
     "text": [
      "Product of basin sizes = 1397760\n"
     ]
    }
   ],
   "source": [
    "basin_map = (seamap == 9)\n",
    "basin_sizes = []\n",
    "for basin in basins:\n",
    "    basin_sizes.append(basin_size(basin_map, basin[0]))\n",
    "basin_sizes.sort(reverse=True)\n",
    "\n",
    "size_prod = basin_sizes[0]*basin_sizes[1]*basin_sizes[2]\n",
    "print(f'Product of basin sizes = {size_prod}')"
   ]
  }
 ],
 "metadata": {
  "kernelspec": {
   "display_name": "Python 3",
   "language": "python",
   "name": "python3"
  },
  "language_info": {
   "codemirror_mode": {
    "name": "ipython",
    "version": 3
   },
   "file_extension": ".py",
   "mimetype": "text/x-python",
   "name": "python",
   "nbconvert_exporter": "python",
   "pygments_lexer": "ipython3",
   "version": "3.7.10"
  }
 },
 "nbformat": 4,
 "nbformat_minor": 5
}
