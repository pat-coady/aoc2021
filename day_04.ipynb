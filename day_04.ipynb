{
 "cells": [
  {
   "cell_type": "markdown",
   "id": "5c6288b2",
   "metadata": {},
   "source": [
    "## Advent of Code 2021 - Day 4"
   ]
  },
  {
   "cell_type": "markdown",
   "id": "0fe2b62e",
   "metadata": {},
   "source": [
    "### Star 1"
   ]
  },
  {
   "cell_type": "code",
   "execution_count": 1,
   "id": "8d6f2aa4",
   "metadata": {},
   "outputs": [],
   "source": [
    "# seems like a good puzzle to knock the rust off my NumPy skills\n",
    "import numpy as np"
   ]
  },
  {
   "cell_type": "code",
   "execution_count": 2,
   "id": "e061ed4e",
   "metadata": {},
   "outputs": [],
   "source": [
    "# load boards in np arrays and bingo balls in python list\n",
    "fn = 'input_04_a.txt'\n",
    "\n",
    "with open(fn) as f:\n",
    "    balls = list(map(lambda x: int(x), f.readline().split(',')))\n",
    "    boards = []\n",
    "    for line in f:\n",
    "        if line == '\\n':\n",
    "            continue\n",
    "        line = filter(lambda x: x != '', line.strip().split(' '))\n",
    "        line = list(map(lambda x: int(x), line))\n",
    "        boards.append(line)\n",
    "    boards = np.array(boards).reshape(-1, 5, 5)"
   ]
  },
  {
   "cell_type": "code",
   "execution_count": 3,
   "id": "a3b02084",
   "metadata": {},
   "outputs": [
    {
     "name": "stdout",
     "output_type": "stream",
     "text": [
      "Score = 8580\n"
     ]
    }
   ],
   "source": [
    "matches = np.zeros_like(boards)\n",
    "for ball in balls:\n",
    "    matches += boards == ball\n",
    "    winning_cols = (matches.sum(axis=1) == 5).sum(axis=1)  # winning col sums to 5\n",
    "    winning_rows = (matches.sum(axis=2) == 5).sum(axis=1)\n",
    "    winning_board = winning_cols + winning_rows\n",
    "    if winning_board.sum() > 0:\n",
    "        break\n",
    "      \n",
    "score = boards * winning_board.reshape(-1, 1, 1)  # zero out losing boards\n",
    "score *= matches == 0                             # zero out matched numbers\n",
    "\n",
    "print(f'Score = {score.sum() * ball}')"
   ]
  },
  {
   "cell_type": "markdown",
   "id": "52364b39",
   "metadata": {},
   "source": [
    "### Star 2\n",
    "\n",
    "Finally ... wrote part 1 so that part 2 didn't require a major re-write. Progress."
   ]
  },
  {
   "cell_type": "code",
   "execution_count": 4,
   "id": "192c01bc",
   "metadata": {},
   "outputs": [
    {
     "name": "stdout",
     "output_type": "stream",
     "text": [
      "Score = 9576\n"
     ]
    }
   ],
   "source": [
    "matches = np.zeros_like(boards)\n",
    "for ball in balls:\n",
    "    matches += boards == ball\n",
    "    winning_cols = (matches.sum(axis=1) == 5).sum(axis=1)  # winning col sums to 5\n",
    "    winning_rows = (matches.sum(axis=2) == 5).sum(axis=1)\n",
    "    winning_boards = winning_cols + winning_rows\n",
    "    if (winning_boards == 0).sum() == 0:  # last board wins!\n",
    "        break\n",
    "    losing_board = winning_boards == 0\n",
    "\n",
    "score = boards * losing_board.reshape(-1, 1, 1)   # zero out winning boards\n",
    "score *= matches == 0                             # zero out matched numbers\n",
    "\n",
    "print(f'Score = {score.sum() * ball}')"
   ]
  }
 ],
 "metadata": {
  "kernelspec": {
   "display_name": "Python 3",
   "language": "python",
   "name": "python3"
  },
  "language_info": {
   "codemirror_mode": {
    "name": "ipython",
    "version": 3
   },
   "file_extension": ".py",
   "mimetype": "text/x-python",
   "name": "python",
   "nbconvert_exporter": "python",
   "pygments_lexer": "ipython3",
   "version": "3.7.10"
  }
 },
 "nbformat": 4,
 "nbformat_minor": 5
}
