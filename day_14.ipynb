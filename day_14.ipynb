{
 "cells": [
  {
   "cell_type": "markdown",
   "id": "5c6288b2",
   "metadata": {},
   "source": [
    "## Advent of Code 2021 - Day 14"
   ]
  },
  {
   "cell_type": "markdown",
   "id": "0fe2b62e",
   "metadata": {
    "tags": []
   },
   "source": [
    "### Star 1 & Star 2"
   ]
  },
  {
   "cell_type": "code",
   "execution_count": 1,
   "id": "64054e91",
   "metadata": {},
   "outputs": [],
   "source": [
    "from collections import Counter"
   ]
  },
  {
   "cell_type": "code",
   "execution_count": 2,
   "id": "e6b906fc",
   "metadata": {},
   "outputs": [],
   "source": [
    "# load input: sequence as str, and insertions as dict: {pair: insert letter}\n",
    "with open('input_14_a.txt') as f:\n",
    "    sequence = f.readline().strip()\n",
    "    f.readline()  # skip blank\n",
    "    insertions = {x.strip().split()[0]:x.strip().split()[2] for x in f}"
   ]
  },
  {
   "cell_type": "code",
   "execution_count": 3,
   "id": "9730ec47",
   "metadata": {},
   "outputs": [],
   "source": [
    "# initialize dictionary of pair counts: {pair: count(int)}\n",
    "pair_count = Counter()\n",
    "for i in range(len(sequence)-1):\n",
    "    pair_count.update([sequence[i:i+2]])"
   ]
  },
  {
   "cell_type": "code",
   "execution_count": 4,
   "id": "b299cab8",
   "metadata": {},
   "outputs": [],
   "source": [
    "# run insertions\n",
    "for i in range(40):  # 10 for Star 1, 40 for Star 2\n",
    "    new_count = Counter()\n",
    "    for pair, num_occur in pair_count.items():\n",
    "        if pair not in insertions:\n",
    "            continue\n",
    "        insert = insertions[pair]\n",
    "        new_pairs = {pair[0] + insert: num_occur,\n",
    "                     insert + pair[1]: num_occur}    \n",
    "        new_count.update(new_pairs)\n",
    "    pair_count = new_count"
   ]
  },
  {
   "cell_type": "code",
   "execution_count": 5,
   "id": "84f55e6c",
   "metadata": {},
   "outputs": [
    {
     "name": "stdout",
     "output_type": "stream",
     "text": [
      "Most common minus least common count = 3243771149914\n"
     ]
    }
   ],
   "source": [
    "# count letters\n",
    "letter_counts = Counter()\n",
    "for pair, count in pair_count.items():\n",
    "    [letter_counts.update({x: count}) for x in pair]\n",
    "# each letter appears twice, except first and last letters. increment:\n",
    "letter_counts.update([sequence[0], sequence[-1]])\n",
    "\n",
    "answer = (max(letter_counts.values()) - min(letter_counts.values())) // 2\n",
    "print(f'Most common minus least common count = {answer}')"
   ]
  }
 ],
 "metadata": {
  "kernelspec": {
   "display_name": "Python 3 (ipykernel)",
   "language": "python",
   "name": "python3"
  },
  "language_info": {
   "codemirror_mode": {
    "name": "ipython",
    "version": 3
   },
   "file_extension": ".py",
   "mimetype": "text/x-python",
   "name": "python",
   "nbconvert_exporter": "python",
   "pygments_lexer": "ipython3",
   "version": "3.8.12"
  }
 },
 "nbformat": 4,
 "nbformat_minor": 5
}
