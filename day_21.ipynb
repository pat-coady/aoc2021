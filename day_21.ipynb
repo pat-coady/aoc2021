{
 "cells": [
  {
   "cell_type": "markdown",
   "id": "9eddc343",
   "metadata": {},
   "source": [
    "## Advent of Code - Day 21"
   ]
  },
  {
   "cell_type": "markdown",
   "id": "9eae2e69",
   "metadata": {},
   "source": [
    "### Star 1"
   ]
  },
  {
   "cell_type": "code",
   "execution_count": 1,
   "id": "61b43b96",
   "metadata": {},
   "outputs": [],
   "source": [
    "import numpy as np\n",
    "from itertools import product\n",
    "from collections import Counter"
   ]
  },
  {
   "cell_type": "code",
   "execution_count": 2,
   "id": "62ccd72e",
   "metadata": {},
   "outputs": [],
   "source": [
    "# pos = np.array((4, 8), dtype=np.int32) - 1\n",
    "pos = np.array((10, 7), dtype=np.int32) - 1\n",
    "\n",
    "def die_gen():\n",
    "    side = 0\n",
    "    while True:\n",
    "        yield side + 1\n",
    "        side = (side + 1) % 100"
   ]
  },
  {
   "cell_type": "code",
   "execution_count": 3,
   "id": "93f4739a",
   "metadata": {},
   "outputs": [
    {
     "name": "stdout",
     "output_type": "stream",
     "text": [
      "Answer = 906093\n"
     ]
    }
   ],
   "source": [
    "die = die_gen()\n",
    "points = np.zeros(2, dtype = np.int32)\n",
    "tot_rolls = 0\n",
    "turn = 0\n",
    "\n",
    "while points.max() < 1000:\n",
    "    sum_rolls = 0\n",
    "    for _ in range(3): \n",
    "        sum_rolls += next(die)\n",
    "        tot_rolls += 1\n",
    "    pos[turn] = (pos[turn] + sum_rolls) % 10\n",
    "    points[turn] += pos[turn] + 1\n",
    "    turn = (turn + 1) % 2\n",
    "    \n",
    "print(f'Answer = {points.min() * tot_rolls}')"
   ]
  },
  {
   "cell_type": "markdown",
   "id": "664e5a34",
   "metadata": {},
   "source": [
    "### Star 2"
   ]
  },
  {
   "cell_type": "code",
   "execution_count": 4,
   "id": "6249e254",
   "metadata": {
    "scrolled": true
   },
   "outputs": [
    {
     "name": "stdout",
     "output_type": "stream",
     "text": [
      "Number of wins by winner = 274291038026362\n"
     ]
    }
   ],
   "source": [
    "rolls = Counter()\n",
    "rolls.update([sum(roll) for roll in product(*([[1, 2, 3]] * 3))])\n",
    "states = np.zeros((2, 10, 32), dtype=np.int64)  # (player #, board pos, score count)\n",
    "pos1, pos2 = (10, 7)\n",
    "states[0, pos1 - 1, 0] = 1\n",
    "states[1, pos2 - 1, 0] = 1\n",
    "wins = np.zeros(2, dtype=np.int64)\n",
    "new_univ = 1\n",
    "\n",
    "while states[0, :, :21].sum() > 0.5 and states[1, :, :21].sum() > 0.5:\n",
    "    next_states = np.zeros_like(states, dtype=np.int64)\n",
    "    for player in range(2):\n",
    "        states[player, ...]\n",
    "        for pos in range(10):\n",
    "            for roll_sum, count in rolls.items():\n",
    "                next_pos = (pos + roll_sum) % 10\n",
    "                next_states[player, next_pos, (next_pos+1):(next_pos+22)] += states[player, pos, 0:21] * count\n",
    "        wins[player] += next_states[player, :, 21:].sum() * new_univ\n",
    "        next_states[player, :, 21:] = 0\n",
    "        new_univ = next_states[player, :, :21].sum()\n",
    "    states = next_states.copy()\n",
    "    \n",
    "print(f'Number of wins by winner = {wins.max()}')"
   ]
  }
 ],
 "metadata": {
  "kernelspec": {
   "display_name": "Python 3 (ipykernel)",
   "language": "python",
   "name": "python3"
  },
  "language_info": {
   "codemirror_mode": {
    "name": "ipython",
    "version": 3
   },
   "file_extension": ".py",
   "mimetype": "text/x-python",
   "name": "python",
   "nbconvert_exporter": "python",
   "pygments_lexer": "ipython3",
   "version": "3.8.12"
  }
 },
 "nbformat": 4,
 "nbformat_minor": 5
}
