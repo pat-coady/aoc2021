{
 "cells": [
  {
   "cell_type": "markdown",
   "id": "5c6288b2",
   "metadata": {},
   "source": [
    "## Advent of Code 2021 - Day 15"
   ]
  },
  {
   "cell_type": "markdown",
   "id": "0fe2b62e",
   "metadata": {
    "tags": []
   },
   "source": [
    "### Star 1 & 2"
   ]
  },
  {
   "cell_type": "code",
   "execution_count": 1,
   "id": "6d67989b-2bcc-4811-99d9-c502ad678f05",
   "metadata": {},
   "outputs": [],
   "source": [
    "import numpy as np"
   ]
  },
  {
   "cell_type": "code",
   "execution_count": 2,
   "id": "e6b906fc",
   "metadata": {},
   "outputs": [],
   "source": [
    "PART = 2\n",
    "with open('input_15_a.txt') as f:\n",
    "    cave_map = np.array([list(x.strip()) for x in f], dtype=np.int32)\n",
    "    \n",
    "big_map = np.zeros(np.array(cave_map.shape)*5)\n",
    "for i in range(5):\n",
    "    for j in range(5):\n",
    "        start_i = 0 + i * cave_map.shape[0]\n",
    "        end_i = start_i + cave_map.shape[0]\n",
    "        start_j = 0 + j * cave_map.shape[1]\n",
    "        end_j = start_j + cave_map.shape[1]\n",
    "        big_map[start_i:end_i, start_j:end_j] = np.mod(cave_map + i + j - 1, 9) + 1\n",
    "\n",
    "if PART == 2:\n",
    "    cave_map = big_map\n",
    "    \n",
    "risk = np.full(np.array(cave_map.shape) + 2, 100000, dtype=np.int32)\n",
    "risk[1, 1] = 0\n",
    "cave_map = np.pad(cave_map, 1, constant_values=10)\n",
    "cave_map[1, 1] = 0"
   ]
  },
  {
   "cell_type": "code",
   "execution_count": null,
   "id": "45125282-88b9-411d-b4cb-2be8273b7634",
   "metadata": {},
   "outputs": [],
   "source": [
    "risk_old = np.zeros_like(risk)\n",
    "while not np.array_equal(risk_old, risk):\n",
    "    risk_old = risk.copy()\n",
    "    for i in range(1, cave_map.shape[0]-1):\n",
    "        for j in range(1, cave_map.shape[1]-1):\n",
    "            if i==2 and j==1:\n",
    "                debug=True\n",
    "            else:\n",
    "                debug=False\n",
    "            min_risk = min([risk[i-1, j],\n",
    "                            risk[i+1, j],\n",
    "                            risk[i, j-1],\n",
    "                            risk[i, j+1]])\n",
    "            risk[i, j] = min([risk[i, j], cave_map[i, j] + min_risk])\n",
    "            \n",
    "print(f'Lowest risk path = {risk[i, j]}')"
   ]
  }
 ],
 "metadata": {
  "kernelspec": {
   "display_name": "Python 3 (ipykernel)",
   "language": "python",
   "name": "python3"
  },
  "language_info": {
   "codemirror_mode": {
    "name": "ipython",
    "version": 3
   },
   "file_extension": ".py",
   "mimetype": "text/x-python",
   "name": "python",
   "nbconvert_exporter": "python",
   "pygments_lexer": "ipython3",
   "version": "3.8.12"
  }
 },
 "nbformat": 4,
 "nbformat_minor": 5
}
