{
 "cells": [
  {
   "cell_type": "markdown",
   "id": "9eddc343",
   "metadata": {},
   "source": [
    "## Advent of Code - Day 20"
   ]
  },
  {
   "cell_type": "code",
   "execution_count": 1,
   "id": "984f2876",
   "metadata": {},
   "outputs": [],
   "source": [
    "import numpy as np\n",
    "from scipy.signal import convolve2d\n",
    "import matplotlib.pyplot as plt"
   ]
  },
  {
   "cell_type": "markdown",
   "id": "9eae2e69",
   "metadata": {},
   "source": [
    "### Star 1 & 2"
   ]
  },
  {
   "cell_type": "code",
   "execution_count": 2,
   "id": "46a998d0",
   "metadata": {},
   "outputs": [],
   "source": [
    "def load_data(fn):\n",
    "    with open(fn) as f:\n",
    "        enhance = [1 if c == '#' else 0 for c in f.readline().strip()]\n",
    "        f.readline()\n",
    "        image = []\n",
    "        for line in f:\n",
    "            image.append([1 if c == '#' else 0 for c in line.strip()])\n",
    "    enhance = np.array(enhance, np.int32)\n",
    "    image = np.array(image, np.int32)\n",
    "    kernel = np.power(2, np.arange(9, dtype=np.int32)).reshape((3, 3))\n",
    "    \n",
    "    return (image, enhance, kernel)"
   ]
  },
  {
   "cell_type": "code",
   "execution_count": 3,
   "id": "8d031e4f",
   "metadata": {},
   "outputs": [
    {
     "name": "stdout",
     "output_type": "stream",
     "text": [
      "Number of bright pixels = 19492\n"
     ]
    }
   ],
   "source": [
    "image, enhance, kernel = load_data('input_20_a.txt')\n",
    "image = np.pad(image, 3, mode='constant', constant_values=0)\n",
    "\n",
    "for _ in range(50):\n",
    "    image = convolve2d(image, kernel, mode='valid')\n",
    "    image = enhance[image]\n",
    "    image = np.pad(image, 2, mode='edge')\n",
    "    \n",
    "print(f'Number of bright pixels = {image.sum()}')"
   ]
  }
 ],
 "metadata": {
  "kernelspec": {
   "display_name": "Python 3 (ipykernel)",
   "language": "python",
   "name": "python3"
  },
  "language_info": {
   "codemirror_mode": {
    "name": "ipython",
    "version": 3
   },
   "file_extension": ".py",
   "mimetype": "text/x-python",
   "name": "python",
   "nbconvert_exporter": "python",
   "pygments_lexer": "ipython3",
   "version": "3.8.12"
  }
 },
 "nbformat": 4,
 "nbformat_minor": 5
}
