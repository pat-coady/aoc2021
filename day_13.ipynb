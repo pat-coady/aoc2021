{
 "cells": [
  {
   "cell_type": "markdown",
   "id": "5c6288b2",
   "metadata": {},
   "source": [
    "## Advent of Code 2021 - Day 13"
   ]
  },
  {
   "cell_type": "markdown",
   "id": "0fe2b62e",
   "metadata": {
    "tags": []
   },
   "source": [
    "### Star 1 & 2"
   ]
  },
  {
   "cell_type": "code",
   "execution_count": 1,
   "id": "f04ea1da-8360-45f6-9aad-43cd86d92d4b",
   "metadata": {},
   "outputs": [],
   "source": [
    "import numpy as np\n",
    "import matplotlib.pyplot as plt"
   ]
  },
  {
   "cell_type": "code",
   "execution_count": 2,
   "id": "b2c57ac2",
   "metadata": {},
   "outputs": [],
   "source": [
    "# load data: Nx2 array of dots and list of folds\n",
    "dots = []\n",
    "folds = []\n",
    "with open('input_13_a.txt') as f:\n",
    "    for line in f:\n",
    "        if len(line) > 1:\n",
    "            x, y = line.strip().split(',')\n",
    "            dot = (int(x), int(y))\n",
    "            dots.append(dot)\n",
    "        else:\n",
    "            break\n",
    "    for line in f:\n",
    "        instruction = line.strip().split(' ')[2]\n",
    "        axis, dist = instruction.split('=')\n",
    "        fold = (axis, int(dist))\n",
    "        folds.append(fold)\n",
    "dots = np.array(dots)"
   ]
  },
  {
   "cell_type": "code",
   "execution_count": 3,
   "id": "ef506fe6-671d-46ae-a3c3-4691995b8364",
   "metadata": {},
   "outputs": [],
   "source": [
    "# update each dot location based on distance from the fold\n",
    "for fold in folds:\n",
    "    if fold[0] == 'x':\n",
    "        crease = np.array([1, 0])\n",
    "    else:\n",
    "        crease = np.array([0, 1])\n",
    "    crease *= fold[1]\n",
    "    dots = np.abs(crease - np.abs(dots - crease))\n",
    "    # break  # uncomment to only execute FIRST fold"
   ]
  },
  {
   "cell_type": "code",
   "execution_count": 4,
   "id": "d36dc643-c691-40f7-a057-74d57a7db3c8",
   "metadata": {},
   "outputs": [
    {
     "name": "stdout",
     "output_type": "stream",
     "text": [
      "Number of dots = 93.0\n"
     ]
    }
   ],
   "source": [
    "# plot the dots onto a piece of paper, duplicates naturally over-written\n",
    "paper = np.zeros(np.max(dots, axis=0)+1)\n",
    "paper[dots[:, 0], dots[:, 1]] = 1\n",
    "\n",
    "print(f'Number of dots = {paper.sum()}')"
   ]
  },
  {
   "cell_type": "code",
   "execution_count": 5,
   "id": "7f641b12-a594-4669-8463-fedfd6ef8bab",
   "metadata": {},
   "outputs": [
    {
     "data": {
      "text/plain": [
       "<matplotlib.image.AxesImage at 0x7fcda0841520>"
      ]
     },
     "execution_count": 5,
     "metadata": {},
     "output_type": "execute_result"
    },
    {
     "data": {
      "image/png": "[encoded data removed]",
      "text/plain": [
       "<Figure size 432x288 with 1 Axes>"
      ]
     },
     "metadata": {
      "needs_background": "light"
     },
     "output_type": "display_data"
    }
   ],
   "source": [
    "plt.imshow(paper.T)  # transpose to flip x/y"
   ]
  }
 ],
 "metadata": {
  "kernelspec": {
   "display_name": "Python 3 (ipykernel)",
   "language": "python",
   "name": "python3"
  },
  "language_info": {
   "codemirror_mode": {
    "name": "ipython",
    "version": 3
   },
   "file_extension": ".py",
   "mimetype": "text/x-python",
   "name": "python",
   "nbconvert_exporter": "python",
   "pygments_lexer": "ipython3",
   "version": "3.8.12"
  }
 },
 "nbformat": 4,
 "nbformat_minor": 5
}
