{
 "cells": [
  {
   "cell_type": "markdown",
   "id": "5c6288b2",
   "metadata": {},
   "source": [
    "## Advent of Code 2021 - Day 12"
   ]
  },
  {
   "cell_type": "markdown",
   "id": "0fe2b62e",
   "metadata": {
    "tags": []
   },
   "source": [
    "### Star 1"
   ]
  },
  {
   "cell_type": "code",
   "execution_count": 1,
   "id": "b2c57ac2",
   "metadata": {},
   "outputs": [],
   "source": [
    "graph = {}\n",
    "with open('input_12_a.txt') as f:\n",
    "    for line in f:\n",
    "        node1, node2 = line.strip().split('-')\n",
    "        if node1 != 'end' and node2 != 'start':\n",
    "            graph[node1] = graph.get(node1, set())  \n",
    "            graph[node1].add(node2)\n",
    "        if node1 != 'start' and node2 != 'end':\n",
    "            graph[node2] = graph.get(node2, set())\n",
    "            graph[node2].add(node1)"
   ]
  },
  {
   "cell_type": "code",
   "execution_count": 2,
   "id": "2e939a36-6afa-45ff-9540-54296d0e0d9c",
   "metadata": {},
   "outputs": [],
   "source": [
    "def graph_search(graph, node, path):\n",
    "    if node == 'end':\n",
    "        return 1\n",
    "    if node.islower() and node in path:\n",
    "        return 0\n",
    "    path.append(node)\n",
    "    num_paths = 0\n",
    "    for n in graph[node]:\n",
    "        num_paths += graph_search(graph, n, path.copy())\n",
    "    return num_paths"
   ]
  },
  {
   "cell_type": "code",
   "execution_count": 3,
   "id": "bea3b9a5-dd69-4a7c-a8d2-17a9e155b26c",
   "metadata": {},
   "outputs": [
    {
     "name": "stdout",
     "output_type": "stream",
     "text": [
      "Number of paths through cave system = 3421\n"
     ]
    }
   ],
   "source": [
    "num_paths = graph_search(graph, 'start', [])\n",
    "print(f'Number of paths through cave system = {num_paths}')"
   ]
  },
  {
   "cell_type": "markdown",
   "id": "26831d76-2ede-4521-ac30-1dd0f4e85951",
   "metadata": {},
   "source": [
    "### Star 2"
   ]
  },
  {
   "cell_type": "code",
   "execution_count": 4,
   "id": "2f7bbe2a-e864-4e39-8b79-fe993e05a230",
   "metadata": {},
   "outputs": [],
   "source": [
    "from collections import Counter"
   ]
  },
  {
   "cell_type": "code",
   "execution_count": 5,
   "id": "304389bd-51e6-46fb-b4b4-be393be7e5cf",
   "metadata": {},
   "outputs": [],
   "source": [
    "def graph_search(graph, node, path):\n",
    "    if node == 'end':\n",
    "        return 1\n",
    "    path.append(node)\n",
    "    count = Counter(filter(lambda x: x.islower(), path))\n",
    "    most_common = count.most_common(2)\n",
    "    if len(most_common) > 1 and (most_common[1][1] > 1 or most_common[0][1] > 2):\n",
    "        return 0\n",
    "    num_paths = 0\n",
    "    for n in graph[node]:\n",
    "        num_paths += graph_search(graph, n, path.copy())\n",
    "    return num_paths"
   ]
  },
  {
   "cell_type": "code",
   "execution_count": 6,
   "id": "d201ed10-d21f-4301-8475-3452433bca20",
   "metadata": {},
   "outputs": [
    {
     "name": "stdout",
     "output_type": "stream",
     "text": [
      "Number of paths through cave system = 84870\n"
     ]
    }
   ],
   "source": [
    "num_paths = graph_search(graph, 'start', [])\n",
    "print(f'Number of paths through cave system = {num_paths}')"
   ]
  }
 ],
 "metadata": {
  "kernelspec": {
   "display_name": "Python 3 (ipykernel)",
   "language": "python",
   "name": "python3"
  },
  "language_info": {
   "codemirror_mode": {
    "name": "ipython",
    "version": 3
   },
   "file_extension": ".py",
   "mimetype": "text/x-python",
   "name": "python",
   "nbconvert_exporter": "python",
   "pygments_lexer": "ipython3",
   "version": "3.8.12"
  }
 },
 "nbformat": 4,
 "nbformat_minor": 5
}
