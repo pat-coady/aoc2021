{
 "cells": [
  {
   "cell_type": "markdown",
   "id": "5c6288b2",
   "metadata": {},
   "source": [
    "## Advent of Code 2021 - Day 3"
   ]
  },
  {
   "cell_type": "markdown",
   "id": "0fe2b62e",
   "metadata": {},
   "source": [
    "### Star 1"
   ]
  },
  {
   "cell_type": "code",
   "execution_count": 1,
   "id": "e061ed4e",
   "metadata": {},
   "outputs": [
    {
     "name": "stdout",
     "output_type": "stream",
     "text": [
      "gamma rate * epsilon rate = 2648450\n"
     ]
    }
   ],
   "source": [
    "fn = 'input_03_a.txt'\n",
    "col_sums = [0] * 20  # list filled with zeros to count columns ... 20 should be big enough\n",
    "with open(fn) as f:\n",
    "    for count, line in enumerate(f):\n",
    "        col_sums = map(lambda x, y: x + int(y), col_sums, line.strip())\n",
    "\n",
    "gamma_rate_list = [str(int(x > (count // 2))) for x in col_sums]\n",
    "gamma_rate = int('0b' + str().join(gamma_rate_list), 2)\n",
    "binary_ones = '0b' + '1' * len(gamma_rate_list)  # generate all 1s for XOR to flip bits\n",
    "epsilon_rate = gamma_rate ^ int(binary_ones, 2)\n",
    "\n",
    "print(f'gamma rate * epsilon rate = {gamma_rate * epsilon_rate}')"
   ]
  },
  {
   "cell_type": "markdown",
   "id": "c5f54b31",
   "metadata": {},
   "source": [
    "### Star 2"
   ]
  },
  {
   "cell_type": "code",
   "execution_count": 2,
   "id": "fd3961a0",
   "metadata": {},
   "outputs": [],
   "source": [
    "# ones_common_or_tie  keep_most_common    keep_ones    keep_zeros\n",
    "# 0                   0                   1            0\n",
    "# 0                   1                   0            1\n",
    "# 1                   0                   0            1\n",
    "# 1                   1                   1            0\n",
    "\n",
    "# looks like an XOR ... in code below, != operator is equivalent to logical XOR\n",
    "# ^ is bit-wise XOR \n",
    "# both are useful for flipping bits"
   ]
  },
  {
   "cell_type": "code",
   "execution_count": 3,
   "id": "d9a37355",
   "metadata": {},
   "outputs": [],
   "source": [
    "def filt(keep_most_common, int_list, bit_pos):\n",
    "    \"\"\"Keep integers where value at bit_pos (0-based index from LSB) is most (or least) common.\"\"\"\n",
    "    num_items = len(int_list)\n",
    "    set_1 = 2**bit_pos\n",
    "    num_ones = sum(map(lambda x: (x & set_1) > 0, int_list))\n",
    "    ones_most_common_or_tied = (num_ones + 0.1) > num_items / 2  \n",
    "    keep_zeros = ones_most_common_or_tied != keep_most_common\n",
    "    filtered = list(filter(lambda x: keep_zeros != ((x & set_1) > 0), int_list))\n",
    "    \n",
    "    return filtered"
   ]
  },
  {
   "cell_type": "code",
   "execution_count": 4,
   "id": "33aa1e61",
   "metadata": {},
   "outputs": [
    {
     "name": "stdout",
     "output_type": "stream",
     "text": [
      "o2 generator * co2 scrubber = 2845944\n"
     ]
    }
   ],
   "source": [
    "with open(fn) as f:\n",
    "    lines = f.readlines()\n",
    "bit_width = len(lines[0].strip())\n",
    "lines = list(map(lambda x: int(x.strip(), 2), lines))\n",
    "\n",
    "result = []\n",
    "for o2gen in [True, False]:\n",
    "    int_list = lines.copy()\n",
    "    bit_pos = bit_width \n",
    "    while len(int_list) > 1:\n",
    "        bit_pos -= 1\n",
    "        int_list = filt(o2gen, int_list, bit_pos)\n",
    "    result.append(int_list[0])\n",
    "\n",
    "print(f'o2 generator * co2 scrubber = {result[0]*result[1]}')"
   ]
  },
  {
   "cell_type": "markdown",
   "id": "dda49110",
   "metadata": {},
   "source": [
    "### Star 2 - Recursive Answer"
   ]
  },
  {
   "cell_type": "code",
   "execution_count": 5,
   "id": "624a2227",
   "metadata": {},
   "outputs": [],
   "source": [
    "with open(fn) as f:\n",
    "    lines = f.readlines()\n",
    "bit_width = len(lines[0].strip())\n",
    "lines = list(map(lambda x: int(x.strip(), 2), lines))\n",
    "\n",
    "def filt_recurse(keep_most_common, int_list, bit_pos):\n",
    "    \"\"\"Keep integers where value at bit_pos (0-based index from LSB) is most (or least) common.\"\"\"\n",
    "    num_items = len(int_list)\n",
    "    set_1 = 2**bit_pos\n",
    "    num_ones = sum(map(lambda x: (x & set_1) > 0, int_list))\n",
    "    ones_most_common_or_tied = (num_ones + 0.1) > num_items / 2  \n",
    "    keep_zeros = ones_most_common_or_tied != keep_most_common\n",
    "    filtered = list(filter(lambda x: keep_zeros != ((x & set_1) > 0), int_list))\n",
    "    if len(filtered) > 1:\n",
    "        return filt_recurse(keep_most_common, filtered, bit_pos-1)\n",
    "     \n",
    "    return filtered"
   ]
  },
  {
   "cell_type": "code",
   "execution_count": 6,
   "id": "1475a3e3",
   "metadata": {},
   "outputs": [
    {
     "name": "stdout",
     "output_type": "stream",
     "text": [
      "2845944\n"
     ]
    }
   ],
   "source": [
    "print(f'{filt_recurse(True, lines, bit_width-1)[0] * filt_recurse(False, lines, bit_width-1)[0]}')"
   ]
  },
  {
   "cell_type": "code",
   "execution_count": null,
   "id": "f4c913ff",
   "metadata": {},
   "outputs": [],
   "source": []
  }
 ],
 "metadata": {
  "kernelspec": {
   "display_name": "Python 3",
   "language": "python",
   "name": "python3"
  },
  "language_info": {
   "codemirror_mode": {
    "name": "ipython",
    "version": 3
   },
   "file_extension": ".py",
   "mimetype": "text/x-python",
   "name": "python",
   "nbconvert_exporter": "python",
   "pygments_lexer": "ipython3",
   "version": "3.7.10"
  }
 },
 "nbformat": 4,
 "nbformat_minor": 5
}
