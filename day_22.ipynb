{
 "cells": [
  {
   "cell_type": "markdown",
   "id": "9eddc343",
   "metadata": {},
   "source": [
    "## Advent of Code - Day 21"
   ]
  },
  {
   "cell_type": "markdown",
   "id": "9eae2e69",
   "metadata": {},
   "source": [
    "### Star 1"
   ]
  },
  {
   "cell_type": "code",
   "execution_count": 1,
   "id": "61b43b96",
   "metadata": {},
   "outputs": [],
   "source": [
    "import re"
   ]
  },
  {
   "cell_type": "code",
   "execution_count": 2,
   "id": "703e7895",
   "metadata": {},
   "outputs": [],
   "source": [
    "class Cube:\n",
    "    \n",
    "    def __init__(self, corner_list, on):\n",
    "        self.x = tuple(corner_list[0:2])\n",
    "        self.y = tuple(corner_list[2:4])\n",
    "        self.z = tuple(corner_list[4:])\n",
    "        self.on = on\n",
    "        \n",
    "    def intersect(self, other):\n",
    "        new_corner_list = []\n",
    "        new_corner_list.extend(self._line_overlap(self.x, other.x))\n",
    "        new_corner_list.extend(self._line_overlap(self.y, other.y))\n",
    "        new_corner_list.extend(self._line_overlap(self.z, other.z))\n",
    "        # Logic to determine if generated intersecting cuboid\n",
    "        # should be \"on\" or \"off\". Tricky conditions like an \"on\" / \"on\"\n",
    "        # intersection generated off cuboid to avoid double counting\n",
    "        # volumes. But also obvious conditions, like an \"on\" on top of a\n",
    "        # \"off\" generates an \"on\" intersecting cuboid.\n",
    "        if False in new_corner_list:\n",
    "            return False\n",
    "        if self.on and not other.on:\n",
    "            new_on = True\n",
    "        if not self.on and other.on:\n",
    "            new_on = False\n",
    "        if self.on and other.on:\n",
    "            new_on = False\n",
    "        if not self.on and not other.on:\n",
    "            new_on = True\n",
    "        return Cube(new_corner_list, new_on)\n",
    "    \n",
    "    def _line_overlap(self, pair1, pair2):\n",
    "        check1 = self._line_overlap1(pair1, pair2)\n",
    "        check2 = self._line_overlap1(pair2, pair1)\n",
    "        if not (check1 or check2):\n",
    "            return [False]\n",
    "        return check1 if check1 else check2\n",
    "    \n",
    "    def _line_overlap1(self, pair1, pair2):\n",
    "        if pair1[0] >= pair2[0] and pair1[0] <= pair2[1]:\n",
    "            return (pair1[0], min((pair1[1], pair2[1])))\n",
    "        if pair1[1] >= pair2[0] and pair1[1] <= pair2[1]:\n",
    "            return (max((pair1[0], pair2[0])), pair1[1])\n",
    "        return False\n",
    "        \n",
    "    def volume(self):\n",
    "        vol = self.x[1] - self.x[0] + 1\n",
    "        vol *= self.y[1] - self.y[0] + 1\n",
    "        vol *= self.z[1] - self.z[0] + 1\n",
    "        \n",
    "        return vol if self.on else -vol\n",
    "        \n",
    "    def __str__(self):\n",
    "        return f\"x: {self.x}, y: {self.y}, z: {self.z}, on={self.on}\""
   ]
  },
  {
   "cell_type": "code",
   "execution_count": 3,
   "id": "fbb84c4c",
   "metadata": {},
   "outputs": [],
   "source": [
    "p1 = re.compile(r\"[-\\d]+\")\n",
    "p2 = re.compile(r\"[ofn]+\")\n",
    "def load_data(fn, init_only=True):\n",
    "    cubes = []\n",
    "    with open(fn) as f:\n",
    "        for line in f:\n",
    "            corners = [int(x) for x in p1.findall(line)]\n",
    "            on = True if p2.findall(line)[0] == 'on' else False\n",
    "            if (max(corners) > 50 or min(corners) < -50) and init_only:\n",
    "                continue\n",
    "            cubes.append(Cube(corners, on))\n",
    "        \n",
    "    return cubes"
   ]
  },
  {
   "cell_type": "markdown",
   "id": "1b1140b6",
   "metadata": {},
   "source": [
    "### Star 1 & 2"
   ]
  },
  {
   "cell_type": "code",
   "execution_count": 4,
   "id": "dfcc40c7",
   "metadata": {},
   "outputs": [
    {
     "name": "stdout",
     "output_type": "stream",
     "text": [
      "Volume of on cubes = 1323862415207825\n"
     ]
    }
   ],
   "source": [
    "# True for Star 1, False for Star 2\n",
    "cubes = load_data(\"input_22_a.txt\", init_only=False)\n",
    "\n",
    "stack = []\n",
    "for new_cube in cubes:\n",
    "    add_to_stack = []\n",
    "    for cube in stack:\n",
    "        intersect_cube = new_cube.intersect(cube)\n",
    "        if intersect_cube == False:\n",
    "            continue\n",
    "        add_to_stack.append(intersect_cube)\n",
    "    stack.extend(add_to_stack)\n",
    "    # Only add \"on\" cuboids to the stack, \"off\" cuboids make\n",
    "    # their impact by the generated intersections in for-loop.\n",
    "    if new_cube.on: \n",
    "        stack.append(new_cube)\n",
    "        \n",
    "vol = 0\n",
    "for cube in stack:\n",
    "    vol += cube.volume()\n",
    "\n",
    "print(f\"Volume of on cubes = {vol}\")"
   ]
  }
 ],
 "metadata": {
  "kernelspec": {
   "display_name": "Python 3 (ipykernel)",
   "language": "python",
   "name": "python3"
  },
  "language_info": {
   "codemirror_mode": {
    "name": "ipython",
    "version": 3
   },
   "file_extension": ".py",
   "mimetype": "text/x-python",
   "name": "python",
   "nbconvert_exporter": "python",
   "pygments_lexer": "ipython3",
   "version": "3.8.12"
  }
 },
 "nbformat": 4,
 "nbformat_minor": 5
}
