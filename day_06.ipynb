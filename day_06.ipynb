{
 "cells": [
  {
   "cell_type": "markdown",
   "id": "5c6288b2",
   "metadata": {},
   "source": [
    "## Advent of Code 2021 - Day 6"
   ]
  },
  {
   "cell_type": "markdown",
   "id": "0fe2b62e",
   "metadata": {},
   "source": [
    "### Star 1\n",
    "\n",
    "Track every fish's time to reproduce. List length grows with number of fish (i.e., exponential growth)."
   ]
  },
  {
   "cell_type": "code",
   "execution_count": 1,
   "id": "e061ed4e",
   "metadata": {},
   "outputs": [
    {
     "name": "stdout",
     "output_type": "stream",
     "text": [
      "Number of latern fish after 80 days: 352195\n"
     ]
    }
   ],
   "source": [
    "fn = 'input_06_a.txt'\n",
    "with open(fn) as f:\n",
    "    state = [int(x) for x in f.readline().split(',')]\n",
    "\n",
    "num_days = 80\n",
    "for i in range(num_days):\n",
    "    state = list(map(lambda x: x-1, state))\n",
    "    new_laterns = [8 for x in state if x == -1]\n",
    "    state = list(map(lambda x: 6 if x == -1 else x, state))\n",
    "    state = state + new_laterns\n",
    "    \n",
    "print(f'Number of latern fish after {num_days} days: {len(state)}')"
   ]
  },
  {
   "cell_type": "markdown",
   "id": "2b63bce0",
   "metadata": {},
   "source": [
    "### Star 2\n",
    "\n",
    "Just keep track of number of fish at each days till reproduce (i.e. 0 to 9days). Only need 9 buckets."
   ]
  },
  {
   "cell_type": "code",
   "execution_count": 2,
   "id": "45ca88af",
   "metadata": {},
   "outputs": [
    {
     "name": "stdout",
     "output_type": "stream",
     "text": [
      "Number of latern fish after 256 days: 1600306001288\n"
     ]
    }
   ],
   "source": [
    "fn = 'input_06_a.txt'\n",
    "with open(fn) as f:\n",
    "    fishes = [int(x) for x in f.readline().split(',')]\n",
    "\n",
    "num_days = 256\n",
    "fish_by_days = [0] * 9          # buckets to hold number of latern_fish by days-to-go\n",
    "for fish in fishes:             # initialize\n",
    "    fish_by_days[fish] += 1\n",
    "\n",
    "for i in range(num_days):\n",
    "    num_0days = fish_by_days[0]\n",
    "    fish_by_days = fish_by_days[1:] + [0]  # shift left -> subtract 1 day from all fish\n",
    "    fish_by_days[8] = num_0days            # add new fish\n",
    "    fish_by_days[6] += num_0days           # fish that just reproduced now 6 days-to-go\n",
    "    \n",
    "print(f'Number of latern fish after {num_days} days: {sum(fish_by_days)}')"
   ]
  }
 ],
 "metadata": {
  "kernelspec": {
   "display_name": "Python 3",
   "language": "python",
   "name": "python3"
  },
  "language_info": {
   "codemirror_mode": {
    "name": "ipython",
    "version": 3
   },
   "file_extension": ".py",
   "mimetype": "text/x-python",
   "name": "python",
   "nbconvert_exporter": "python",
   "pygments_lexer": "ipython3",
   "version": "3.7.10"
  }
 },
 "nbformat": 4,
 "nbformat_minor": 5
}
