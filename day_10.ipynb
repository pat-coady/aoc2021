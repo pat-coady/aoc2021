{
 "cells": [
  {
   "cell_type": "markdown",
   "id": "5c6288b2",
   "metadata": {},
   "source": [
    "## Advent of Code 2021 - Day 10"
   ]
  },
  {
   "cell_type": "markdown",
   "id": "0fe2b62e",
   "metadata": {},
   "source": [
    "### Star 1"
   ]
  },
  {
   "cell_type": "code",
   "execution_count": 1,
   "id": "879a465a",
   "metadata": {},
   "outputs": [],
   "source": [
    "def corrupted(line):\n",
    "    open_chunk = ('(', '<', '{', '[')\n",
    "    close_dict = {')': '(', '}': '{', ']': '[', '>': '<' }\n",
    "    stack = []\n",
    "    for c in line:\n",
    "        if c in open_chunk:\n",
    "            stack.append(c)\n",
    "        else:\n",
    "            open_c = stack.pop()\n",
    "            if close_dict[c] != open_c:\n",
    "                return c\n",
    "    return ''"
   ]
  },
  {
   "cell_type": "code",
   "execution_count": 2,
   "id": "e061ed4e",
   "metadata": {},
   "outputs": [
    {
     "name": "stdout",
     "output_type": "stream",
     "text": [
      "Syntax error score = 278475\n"
     ]
    }
   ],
   "source": [
    "fn = 'input_10_a.txt'\n",
    "\n",
    "point_table = {\n",
    "    ')': 3,\n",
    "    ']': 57,\n",
    "    '}': 1197,\n",
    "    '>': 25137,\n",
    "    '': 0,\n",
    "}\n",
    "\n",
    "score = 0\n",
    "with open(fn) as f:\n",
    "    for line in f:\n",
    "        c = corrupted(line.strip())\n",
    "        score += point_table[c]\n",
    "        \n",
    "print(f'Syntax error score = {score}')"
   ]
  },
  {
   "cell_type": "markdown",
   "id": "eb47b48f",
   "metadata": {},
   "source": [
    "### Star 2"
   ]
  },
  {
   "cell_type": "code",
   "execution_count": 3,
   "id": "8b0ac8f4",
   "metadata": {},
   "outputs": [],
   "source": [
    "def auto_complete(line):\n",
    "    open_chunk = ('(', '<', '{', '[')\n",
    "    close_dict = {')': '(', '}': '{', ']': '[', '>': '<' }\n",
    "    stack = []\n",
    "    for c in line:\n",
    "        if c in open_chunk:\n",
    "            stack.append(c)\n",
    "        else:\n",
    "            open_c = stack.pop()\n",
    "            if close_dict[c] != open_c:\n",
    "                return []\n",
    "    return stack"
   ]
  },
  {
   "cell_type": "code",
   "execution_count": 4,
   "id": "5172fb50",
   "metadata": {},
   "outputs": [
    {
     "name": "stdout",
     "output_type": "stream",
     "text": [
      "Auto-complete score = 3015539998\n"
     ]
    }
   ],
   "source": [
    "fn = 'input_10_a.txt'\n",
    "\n",
    "point_table = {\n",
    "    '(': 1,\n",
    "    '[': 2,\n",
    "    '{': 3,\n",
    "    '<': 4,\n",
    "}\n",
    "\n",
    "scores = []\n",
    "with open(fn) as f:\n",
    "    for line in f:\n",
    "        score = 0\n",
    "        stack = auto_complete(line.strip())\n",
    "        stack.reverse()\n",
    "        for c in stack:\n",
    "            score *= 5\n",
    "            score += point_table[c]\n",
    "        if score > 0:\n",
    "            scores.append(score)\n",
    "\n",
    "scores.sort()\n",
    "print(f'Auto-complete score = {scores[len(scores) // 2]}')"
   ]
  },
  {
   "cell_type": "code",
   "execution_count": null,
   "id": "833534bf",
   "metadata": {},
   "outputs": [],
   "source": []
  }
 ],
 "metadata": {
  "kernelspec": {
   "display_name": "Python 3",
   "language": "python",
   "name": "python3"
  },
  "language_info": {
   "codemirror_mode": {
    "name": "ipython",
    "version": 3
   },
   "file_extension": ".py",
   "mimetype": "text/x-python",
   "name": "python",
   "nbconvert_exporter": "python",
   "pygments_lexer": "ipython3",
   "version": "3.7.10"
  }
 },
 "nbformat": 4,
 "nbformat_minor": 5
}
