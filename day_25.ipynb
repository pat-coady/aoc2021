{
 "cells": [
  {
   "cell_type": "markdown",
   "id": "509349f5",
   "metadata": {},
   "source": [
    "# Advent of Code - Day 25"
   ]
  },
  {
   "cell_type": "markdown",
   "id": "7ac59099",
   "metadata": {},
   "source": [
    "### Star 1"
   ]
  },
  {
   "cell_type": "code",
   "execution_count": 1,
   "id": "7bcb15ed",
   "metadata": {},
   "outputs": [],
   "source": [
    "import numpy as np"
   ]
  },
  {
   "cell_type": "code",
   "execution_count": 2,
   "id": "edc54d6b",
   "metadata": {},
   "outputs": [],
   "source": [
    "def load_input(fn):\n",
    "    map_to_int = {\n",
    "        '.': 0,\n",
    "        '>': 1,\n",
    "        'v': 2,\n",
    "    }\n",
    "    with open(fn) as f:\n",
    "        sea_map = [[map_to_int[x] for x in line.strip()] for line in f]\n",
    "    \n",
    "    return np.array(sea_map, dtype=np.int8)"
   ]
  },
  {
   "cell_type": "code",
   "execution_count": 3,
   "id": "72506d1c",
   "metadata": {},
   "outputs": [
    {
     "name": "stdout",
     "output_type": "stream",
     "text": [
      "Number of moves till frozen = 568\n"
     ]
    }
   ],
   "source": [
    "sea_map = load_input('input_25_a.txt')\n",
    "\n",
    "# create padded map to more easily deal with wrap-around\n",
    "padded_map = np.zeros(np.array(sea_map.shape)+1)\n",
    "padded_map[:sea_map.shape[0], :sea_map.shape[1]] = sea_map\n",
    "padded_map[-1, :] = padded_map[0, :]\n",
    "padded_map[:, -1] = padded_map[:, 0]\n",
    "sea_map = padded_map\n",
    "\n",
    "no_moves = False\n",
    "count = 0\n",
    "while not no_moves:\n",
    "    count += 1\n",
    "    no_moves = True\n",
    "    for i in (1, 2):\n",
    "        free_spots = sea_map == 0\n",
    "        want_to_move = sea_map == i\n",
    "        movers = want_to_move[:, :-1] & free_spots[:, 1:]\n",
    "        # zero out old position\n",
    "        sea_map[:, :-1] -= movers * i\n",
    "        # 1 or 2 in new position\n",
    "        sea_map[:, 1:] += movers * i\n",
    "        sea_map[:, 0] += movers[:, -1] * i\n",
    "        sea_map[:, -1] = sea_map[:, 0]\n",
    "        if movers.sum() > 0:\n",
    "            no_moves = False\n",
    "        sea_map = sea_map.T  # transpose to switch between east and south movement\n",
    "                \n",
    "print(f'Number of moves till frozen = {count}')"
   ]
  }
 ],
 "metadata": {
  "kernelspec": {
   "display_name": "Python 3 (ipykernel)",
   "language": "python",
   "name": "python3"
  },
  "language_info": {
   "codemirror_mode": {
    "name": "ipython",
    "version": 3
   },
   "file_extension": ".py",
   "mimetype": "text/x-python",
   "name": "python",
   "nbconvert_exporter": "python",
   "pygments_lexer": "ipython3",
   "version": "3.8.12"
  }
 },
 "nbformat": 4,
 "nbformat_minor": 5
}
