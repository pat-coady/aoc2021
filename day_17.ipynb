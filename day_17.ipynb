{
 "cells": [
  {
   "cell_type": "markdown",
   "id": "5c6288b2",
   "metadata": {},
   "source": [
    "## Advent of Code 2021 - Day 16"
   ]
  },
  {
   "cell_type": "markdown",
   "id": "0fe2b62e",
   "metadata": {
    "tags": []
   },
   "source": [
    "### Star 1 & 2"
   ]
  },
  {
   "cell_type": "code",
   "execution_count": 1,
   "id": "bf5a0415",
   "metadata": {},
   "outputs": [],
   "source": [
    "# target = 'x=20..30, y=-10..-5'\n",
    "target = 'x=34..67, y=-215..-186'\n",
    "xs, ys = target.replace('x=', '').replace('y=', '').split(', ')\n",
    "xs = [int(x) for x in xs.split('..')]\n",
    "ys = [int(x) for x in ys.split('..')]"
   ]
  },
  {
   "cell_type": "code",
   "execution_count": 2,
   "id": "f518fe83",
   "metadata": {},
   "outputs": [],
   "source": [
    "t_sets = []\n",
    "for xvel in range(max(xs)+1):\n",
    "    xpos, t, v = 0, 0, xvel\n",
    "    t_set = []\n",
    "    while v > 0:\n",
    "        t += 1\n",
    "        xpos += v\n",
    "        v -= 1\n",
    "        if xpos <= xs[1] and xpos >= xs[0]:\n",
    "            t_set.append(t)\n",
    "    if xpos <= xs[1] and xpos >= xs[0]:\n",
    "        t_set.append(-t)\n",
    "    if len(t_set) > 0:\n",
    "        t_sets.append((xvel, t_set))"
   ]
  },
  {
   "cell_type": "code",
   "execution_count": 3,
   "id": "7e8b5ee0",
   "metadata": {},
   "outputs": [],
   "source": [
    "launches = set()\n",
    "for yvel in range(-ys[0], ys[0]-1, -1):\n",
    "    t, ypos, v = 0, 0, yvel\n",
    "    while ypos >= ys[0]:\n",
    "        t += 1\n",
    "        ypos += v\n",
    "        v -= 1\n",
    "        if ypos <= ys[1] and ypos >= ys[0]:\n",
    "            for xvel, t_set in t_sets:\n",
    "                gt = -t_set[-1] if t_set[-1] < 0 else 10000\n",
    "                if (t in t_set) or (t > gt):\n",
    "                    launches.add((xvel, yvel))          "
   ]
  },
  {
   "cell_type": "code",
   "execution_count": 4,
   "id": "7124b7bc",
   "metadata": {},
   "outputs": [
    {
     "name": "stdout",
     "output_type": "stream",
     "text": [
      "Maximum height = 23005\n"
     ]
    }
   ],
   "source": [
    "# Part I\n",
    "answer = max(map(lambda x: x[1], launches)) # grab vert launch velocity\n",
    "answer = (answer + answer**2)//2  # arithmetic sum to calculate height\n",
    "print(f'Maximum height = {answer}')"
   ]
  },
  {
   "cell_type": "code",
   "execution_count": 5,
   "id": "751f1732",
   "metadata": {},
   "outputs": [
    {
     "name": "stdout",
     "output_type": "stream",
     "text": [
      "Number of unique launches on target = 2040\n"
     ]
    }
   ],
   "source": [
    "# Part II\n",
    "print(f'Number of unique launches on target = {len(launches)}')"
   ]
  },
  {
   "cell_type": "code",
   "execution_count": null,
   "id": "122b04a8",
   "metadata": {},
   "outputs": [],
   "source": []
  }
 ],
 "metadata": {
  "kernelspec": {
   "display_name": "Python 3 (ipykernel)",
   "language": "python",
   "name": "python3"
  },
  "language_info": {
   "codemirror_mode": {
    "name": "ipython",
    "version": 3
   },
   "file_extension": ".py",
   "mimetype": "text/x-python",
   "name": "python",
   "nbconvert_exporter": "python",
   "pygments_lexer": "ipython3",
   "version": "3.8.12"
  }
 },
 "nbformat": 4,
 "nbformat_minor": 5
}
