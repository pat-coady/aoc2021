{
 "cells": [
  {
   "cell_type": "markdown",
   "id": "5c6288b2",
   "metadata": {},
   "source": [
    "## Advent of Code 2021 - Day 11"
   ]
  },
  {
   "cell_type": "code",
   "execution_count": 1,
   "id": "221aea9b",
   "metadata": {},
   "outputs": [],
   "source": [
    "import numpy as np\n",
    "from scipy.signal import convolve2d"
   ]
  },
  {
   "cell_type": "markdown",
   "id": "0fe2b62e",
   "metadata": {},
   "source": [
    "### Star 1 & 2"
   ]
  },
  {
   "cell_type": "code",
   "execution_count": 2,
   "id": "b2c57ac2",
   "metadata": {},
   "outputs": [
    {
     "name": "stdout",
     "output_type": "stream",
     "text": [
      "Total flashes at step 100 = 1719\n",
      "First all flash step = 232\n"
     ]
    }
   ],
   "source": [
    "with open('input_11_a.txt') as f:\n",
    "    states = np.array([[int(x) for x in line.strip()] for line in f], dtype=np.int)\n",
    "\n",
    "flash = np.ones((3, 3), dtype=np.int)\n",
    "flashes_by_step = []\n",
    "for i in range(1000):\n",
    "    states += 1\n",
    "    flashed = np.full_like(states, False, dtype=np.bool)\n",
    "    new_flashes = states > 9\n",
    "    while np.sum(new_flashes) > 0:\n",
    "        increment_map = convolve2d(new_flashes, flash, mode='same')\n",
    "        states += increment_map\n",
    "        flashed |= new_flashes\n",
    "        new_flashes = (states > 9) & (~flashed)\n",
    "    states[flashed] = 0\n",
    "    flashes_by_step.append(flashed.sum())\n",
    "\n",
    "print(f'Total flashes at step 100 = {sum(flashes_by_step[:100])}')\n",
    "print(f'First all flash step = {flashes_by_step.index(100)+1}')"
   ]
  }
 ],
 "metadata": {
  "kernelspec": {
   "display_name": "Python 3",
   "language": "python",
   "name": "python3"
  },
  "language_info": {
   "codemirror_mode": {
    "name": "ipython",
    "version": 3
   },
   "file_extension": ".py",
   "mimetype": "text/x-python",
   "name": "python",
   "nbconvert_exporter": "python",
   "pygments_lexer": "ipython3",
   "version": "3.7.10"
  }
 },
 "nbformat": 4,
 "nbformat_minor": 5
}
