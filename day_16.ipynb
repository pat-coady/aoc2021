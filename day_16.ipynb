{
 "cells": [
  {
   "cell_type": "markdown",
   "id": "5c6288b2",
   "metadata": {},
   "source": [
    "## Advent of Code 2021 - Day 16"
   ]
  },
  {
   "cell_type": "markdown",
   "id": "0fe2b62e",
   "metadata": {
    "tags": []
   },
   "source": [
    "### Star 1"
   ]
  },
  {
   "cell_type": "code",
   "execution_count": 1,
   "id": "c576d468",
   "metadata": {},
   "outputs": [],
   "source": [
    "import numpy as np"
   ]
  },
  {
   "cell_type": "code",
   "execution_count": 2,
   "id": "bf5a0415",
   "metadata": {},
   "outputs": [],
   "source": [
    "with open('input_16_a.txt') as f:\n",
    "    tx = f.readline().strip()\n",
    "tx_bin = [bin(int(x, 16))[2:].zfill(4) for x in tx]\n",
    "tx_bin = ''.join(tx_bin)"
   ]
  },
  {
   "cell_type": "code",
   "execution_count": 3,
   "id": "314c9333",
   "metadata": {},
   "outputs": [],
   "source": [
    "def bin2int(string):\n",
    "    return int('0b0' + ''.join(string), 2)"
   ]
  },
  {
   "cell_type": "code",
   "execution_count": 4,
   "id": "f08e089e",
   "metadata": {},
   "outputs": [],
   "source": [
    "def parse_lit_val(tx_bin):\n",
    "    value = []\n",
    "    idx = 6\n",
    "    last = False\n",
    "    while not last:\n",
    "        value.append(tx_bin[idx+1:idx+5])\n",
    "        last = tx_bin[idx] == '0'\n",
    "        idx += 5\n",
    "    value = bin2int(value)\n",
    "\n",
    "    return (value, tx_bin[idx:])"
   ]
  },
  {
   "cell_type": "code",
   "execution_count": 5,
   "id": "ab74dba0",
   "metadata": {},
   "outputs": [],
   "source": [
    "def parse_header(tx_bin):\n",
    "    ver_id = bin2int(tx_bin[0:3])\n",
    "    type_id = bin2int(tx_bin[3:6])\n",
    "    operator = type_id != 4\n",
    "    num_subpacks = -1\n",
    "    num_subbits = -1\n",
    "    lit_val = -1\n",
    "    if operator:\n",
    "        if tx_bin[6] == '0':\n",
    "            num_subbits = bin2int(tx_bin[7:22])\n",
    "            remain_tx = tx_bin[22:]\n",
    "        else:\n",
    "            num_subpacks = bin2int(tx_bin[7:18])\n",
    "            remain_tx = tx_bin[18:]\n",
    "    else:\n",
    "        lit_val, remain_tx = parse_lit_val(tx_bin)       \n",
    "    return {\n",
    "        'ver_id': ver_id,\n",
    "        'type_id': type_id,\n",
    "        'lit_val': lit_val,\n",
    "        'operator': operator,\n",
    "        'num_subpacks': num_subpacks,\n",
    "        'num_subbits': num_subbits,\n",
    "        'remain_tx': remain_tx,\n",
    "    }"
   ]
  },
  {
   "cell_type": "code",
   "execution_count": 6,
   "id": "9318700f",
   "metadata": {},
   "outputs": [],
   "source": [
    "def parse(tx_bin, num_subpacks, num_subbits):\n",
    "    tx_bin_len = len(tx_bin)\n",
    "    ver_sum = 0\n",
    "    num_bits = 0\n",
    "    while not (num_subpacks == 0 or num_subbits == num_bits):\n",
    "        p_dict = parse_header(tx_bin)\n",
    "        if p_dict['operator']:\n",
    "            (tx_bin, v) = parse(p_dict['remain_tx'],\n",
    "                                      p_dict['num_subpacks'],\n",
    "                                      p_dict['num_subbits'])\n",
    "            ver_sum += v + p_dict['ver_id']\n",
    "        else:\n",
    "            tx_bin = p_dict['remain_tx']\n",
    "            ver_sum += p_dict['ver_id']\n",
    "        num_subpacks -= 1\n",
    "        num_bits = tx_bin_len - len(tx_bin)\n",
    "    return (tx_bin, ver_sum)"
   ]
  },
  {
   "cell_type": "code",
   "execution_count": 7,
   "id": "1ade584d",
   "metadata": {},
   "outputs": [
    {
     "name": "stdout",
     "output_type": "stream",
     "text": [
      "Version ID sum = 979\n"
     ]
    }
   ],
   "source": [
    "print(f'Version ID sum = {parse(tx_bin, 1, -1)[1]}')"
   ]
  },
  {
   "cell_type": "markdown",
   "id": "53cdbd4d",
   "metadata": {},
   "source": [
    "### Star 2"
   ]
  },
  {
   "cell_type": "code",
   "execution_count": 8,
   "id": "fa3b1acf",
   "metadata": {},
   "outputs": [],
   "source": [
    "def instruction(operator, operands):\n",
    "    if operator == 4:\n",
    "        return operands[0]\n",
    "    elif operator == 0:\n",
    "        return sum(operands)\n",
    "    elif operator == 1:\n",
    "        return int(np.prod(operands))\n",
    "    elif operator == 2:\n",
    "        return min(operands)\n",
    "    elif operator == 3:\n",
    "        return max(operands)\n",
    "    elif operator == 5:\n",
    "        return 1 if operands[0] > operands[1] else 0\n",
    "    elif operator == 6:\n",
    "        return 1 if operands[0] < operands[1] else 0\n",
    "    elif operator == 7:\n",
    "        return 1 if operands[0] == operands[1] else 0"
   ]
  },
  {
   "cell_type": "code",
   "execution_count": 9,
   "id": "0e048ae1",
   "metadata": {},
   "outputs": [],
   "source": [
    "def parse(tx_bin, num_subpacks, num_subbits, operator):\n",
    "    tx_bin_len = len(tx_bin)\n",
    "    num_bits = 0\n",
    "    operands = []\n",
    "    while not (num_subpacks == 0 or num_subbits == num_bits):\n",
    "        p_dict = parse_header(tx_bin)\n",
    "        if p_dict['operator']:\n",
    "            (tx_bin, val) = parse(p_dict['remain_tx'],\n",
    "                                 p_dict['num_subpacks'],\n",
    "                                 p_dict['num_subbits'],\n",
    "                                 p_dict['type_id'])\n",
    "            operands.append(val)\n",
    "        else:\n",
    "            tx_bin = p_dict['remain_tx']      \n",
    "            operands.append(p_dict['lit_val'])\n",
    "        num_subpacks -= 1\n",
    "        num_bits = tx_bin_len - len(tx_bin)\n",
    "    \n",
    "    return (tx_bin, instruction(operator, operands))"
   ]
  },
  {
   "cell_type": "code",
   "execution_count": 10,
   "id": "209aa9ba",
   "metadata": {},
   "outputs": [
    {
     "name": "stdout",
     "output_type": "stream",
     "text": [
      "Answer = 277110354175\n"
     ]
    }
   ],
   "source": [
    "answer = parse(tx_bin, 1, -1, 4)\n",
    "print(f'Answer = {answer[1]}')"
   ]
  }
 ],
 "metadata": {
  "kernelspec": {
   "display_name": "Python 3 (ipykernel)",
   "language": "python",
   "name": "python3"
  },
  "language_info": {
   "codemirror_mode": {
    "name": "ipython",
    "version": 3
   },
   "file_extension": ".py",
   "mimetype": "text/x-python",
   "name": "python",
   "nbconvert_exporter": "python",
   "pygments_lexer": "ipython3",
   "version": "3.8.12"
  }
 },
 "nbformat": 4,
 "nbformat_minor": 5
}
