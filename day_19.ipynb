{
 "cells": [
  {
   "cell_type": "markdown",
   "id": "9eddc343",
   "metadata": {},
   "source": [
    "## Advent of Code - Day 19"
   ]
  },
  {
   "cell_type": "code",
   "execution_count": 1,
   "id": "984f2876",
   "metadata": {},
   "outputs": [],
   "source": [
    "import numpy as np\n",
    "import re\n",
    "from scipy.spatial.distance import pdist\n",
    "from collections import Counter"
   ]
  },
  {
   "cell_type": "markdown",
   "id": "9eae2e69",
   "metadata": {},
   "source": [
    "### Star 1"
   ]
  },
  {
   "cell_type": "code",
   "execution_count": 2,
   "id": "46a998d0",
   "metadata": {},
   "outputs": [],
   "source": [
    "def load_data(fn):\n",
    "    p = re.compile(r'[\\d-]+')\n",
    "    scanners = []\n",
    "    with open(fn) as f:\n",
    "        for line in f:\n",
    "            if 'scanner' in line:\n",
    "                scanner = []\n",
    "                continue\n",
    "            if len(line) < 5:\n",
    "                scanners.append(scanner)\n",
    "                continue\n",
    "            scanner.append([int(x) for x in p.findall(line)])\n",
    "    scanners.append(scanner)\n",
    "    \n",
    "    return scanners"
   ]
  },
  {
   "cell_type": "code",
   "execution_count": 3,
   "id": "7221a101",
   "metadata": {},
   "outputs": [],
   "source": [
    "def find_pairs(scanners):\n",
    "    '''If 2 scanners have >60 matching pair-wise beacon distances, then overlapping.'''\n",
    "    signatures = []\n",
    "    for scanner in scanners:  # calc all pair-wise distances within each scanner\n",
    "        signatures.append(set(np.round(pdist(scanner), decimals=2)))\n",
    "    pairs = set()\n",
    "    for i in range(len(signatures)):\n",
    "        for j in range(i + 1, len(signatures)):\n",
    "            intersection = len(signatures[i].intersection(signatures[j]))\n",
    "            if intersection > 60:\n",
    "                pairs.add((i, j))\n",
    "                \n",
    "    return pairs"
   ]
  },
  {
   "cell_type": "code",
   "execution_count": 4,
   "id": "3e64804b",
   "metadata": {},
   "outputs": [],
   "source": [
    "def gen_all_rots():\n",
    "    rot_z = np.array([[0, 1, 0],  # rotate around z-axis (4 rotations)\n",
    "                     [-1, 0, 0],\n",
    "                    [0, 0, 1]])\n",
    "    rot_x = np.array([[1, 0, 0],  # rotate around x-axis (4 rotations)\n",
    "                     [0, 0, -1],\n",
    "                     [0, 1, 0]])\n",
    "    rot_y = np.array([[0, 0, -1], # rotate around y-axis (2 rotations)\n",
    "                     [0, 1, 0],\n",
    "                     [1, 0, 0]])\n",
    "# build 4 z-rotations\n",
    "    rot1 = []\n",
    "    mat = np.eye(3)\n",
    "    for i in range(4):   \n",
    "        mat = np.matmul(mat, rot_z)\n",
    "        rot1.append(mat)\n",
    "# build 4 x-rotations + 2 y-rotations\n",
    "    rot2 = []\n",
    "    for i in range(4):\n",
    "        mat = np.matmul(mat, rot_x)\n",
    "        rot2.append(mat)\n",
    "    mat = np.matmul(mat, rot_y)  # rotate 90deg around y-axis\n",
    "    rot2.append(mat)\n",
    "    mat = np.matmul(mat, rot_y)\n",
    "    mat = np.matmul(mat, rot_y)  # rotate 2x90deg around y-axis\n",
    "    rot2.append(mat)\n",
    "# build 24 (4 x 6) combinations\n",
    "    return [np.matmul(x, y) for x in rot1 for y in rot2]"
   ]
  },
  {
   "cell_type": "code",
   "execution_count": 5,
   "id": "c801cf0a",
   "metadata": {},
   "outputs": [],
   "source": [
    "def de_dup(b1, b2):\n",
    "    stack = np.vstack((b1, b2))\n",
    "    s = {tuple(x) for x in stack}\n",
    "    \n",
    "    return np.array([x for x in s], dtype=np.int32)\n",
    "    \n",
    "def align(scan1, scan2, all_rots):\n",
    "    for rot in all_rots:\n",
    "        c = Counter()\n",
    "        b1 = scan1\n",
    "        b2 = scan2\n",
    "        b2 = np.matmul(b2, rot).astype(np.int32)\n",
    "        [c.update((tuple(x-y),)) for x in b1 for y in b2]\n",
    "        if c.most_common(1)[0][1] >= 12:\n",
    "            break\n",
    "    shift = c.most_common(1)[0][0]\n",
    "    b2 += np.array(shift)\n",
    "    \n",
    "    return (de_dup(b1, b2), shift)"
   ]
  },
  {
   "cell_type": "code",
   "execution_count": 6,
   "id": "f40d5448",
   "metadata": {},
   "outputs": [
    {
     "name": "stdout",
     "output_type": "stream",
     "text": [
      "Number of beacons = 459\n"
     ]
    }
   ],
   "source": [
    "scanners = load_data('input_19_a.txt')\n",
    "pairs = find_pairs(scanners)\n",
    "all_rots = gen_all_rots()\n",
    "stack = [0]\n",
    "shifts = []\n",
    "all_beacons = np.array(scanners[0], dtype=np.int32)  # start with scanner\n",
    "while len(pairs) > 0:\n",
    "    next_scanner = stack.pop()\n",
    "    remove_pairs = []\n",
    "    for pair in pairs:\n",
    "        if next_scanner in pair:\n",
    "            s = list(pair)\n",
    "            s.remove(next_scanner)\n",
    "            stack.append(s[0])\n",
    "            scanner = np.array(scanners[s[0]], dtype=np.int32)\n",
    "            all_beacons, shift = align(all_beacons, scanner, all_rots)\n",
    "            shifts.append(shift)  # keep track of all shifts for star 2\n",
    "            remove_pairs.append(pair)\n",
    "    for pair in remove_pairs:\n",
    "        pairs.remove(pair)\n",
    "        \n",
    "print(f'Number of beacons = {all_beacons.shape[0]}')"
   ]
  },
  {
   "cell_type": "markdown",
   "id": "abb8cff3",
   "metadata": {},
   "source": [
    "### Star 2"
   ]
  },
  {
   "cell_type": "code",
   "execution_count": 7,
   "id": "25740231",
   "metadata": {},
   "outputs": [
    {
     "name": "stdout",
     "output_type": "stream",
     "text": [
      "Maximum Manhattan distance between scanners = 19130\n"
     ]
    }
   ],
   "source": [
    "shifts = np.array([np.array(x) for x in shifts])\n",
    "mx = int(pdist(shifts, metric='cityblock').max())\n",
    "\n",
    "print(f'Maximum Manhattan distance between scanners = {mx}')"
   ]
  }
 ],
 "metadata": {
  "kernelspec": {
   "display_name": "Python 3 (ipykernel)",
   "language": "python",
   "name": "python3"
  },
  "language_info": {
   "codemirror_mode": {
    "name": "ipython",
    "version": 3
   },
   "file_extension": ".py",
   "mimetype": "text/x-python",
   "name": "python",
   "nbconvert_exporter": "python",
   "pygments_lexer": "ipython3",
   "version": "3.8.12"
  }
 },
 "nbformat": 4,
 "nbformat_minor": 5
}
