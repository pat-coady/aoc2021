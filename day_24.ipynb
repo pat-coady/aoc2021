{
 "cells": [
  {
   "cell_type": "markdown",
   "id": "9eddc343",
   "metadata": {},
   "source": [
    "## Advent of Code - Day 24"
   ]
  },
  {
   "cell_type": "markdown",
   "id": "9eae2e69",
   "metadata": {},
   "source": [
    "### Star 1 & 2"
   ]
  },
  {
   "cell_type": "code",
   "execution_count": 1,
   "id": "14be22ad",
   "metadata": {},
   "outputs": [],
   "source": [
    "def load_instructions(fn):\n",
    "    instructions = []\n",
    "    with open(fn) as f:\n",
    "        instructions = [tuple(line.strip().split(' ')) for line in f]\n",
    "    return instructions"
   ]
  },
  {
   "cell_type": "code",
   "execution_count": 2,
   "id": "213c1c93",
   "metadata": {},
   "outputs": [],
   "source": [
    "def process(i_list, idx, digit, z):\n",
    "    reg = {'w': 0, 'x': 0, 'y': 0, 'z': z}\n",
    "    for i in i_list[idx]:\n",
    "        op = i[0]\n",
    "        if op == 'inp':\n",
    "            reg[i[1]] = digit\n",
    "        else:\n",
    "            op1 = i[1]\n",
    "            op2 = i[2]\n",
    "            op2 = reg[op2] if op2 in reg else int(op2)\n",
    "            if op == 'add':\n",
    "                reg[op1] += op2\n",
    "            elif op == 'mul':\n",
    "                reg[op1] *= op2\n",
    "            elif op == 'div':\n",
    "                reg[op1] //= op2\n",
    "            elif op == 'mod':\n",
    "                reg[op1] %= op2\n",
    "            elif op == 'eql':\n",
    "                reg[op1] = int(reg[op1] == op2)\n",
    "                \n",
    "    return reg['z']"
   ]
  },
  {
   "cell_type": "code",
   "execution_count": 3,
   "id": "b5d7ba29",
   "metadata": {},
   "outputs": [],
   "source": [
    "def find_digit(i_list, idx, z_in, memo):\n",
    "    key = (idx, z_in)\n",
    "    if key in memo:\n",
    "        return memo[key]\n",
    "\n",
    "    result = None\n",
    "    for digit in range(1, 10):  # change to `range(9, 0, -1)` for Star 2\n",
    "        z_out = process(i_list, idx, digit, z_in)\n",
    "        if idx == 13:\n",
    "            if z_out == 0:\n",
    "                result = str(digit)\n",
    "                break\n",
    "        else:\n",
    "            p = find_digit(i_list, idx+1, z_out, memo)\n",
    "            if p is not None:\n",
    "                result = str(digit)+p\n",
    "                break\n",
    "\n",
    "    memo[key] = result    \n",
    "    return result"
   ]
  },
  {
   "cell_type": "code",
   "execution_count": 4,
   "id": "64932a23",
   "metadata": {},
   "outputs": [],
   "source": [
    "# split instructions into blocks starting with each 'inp w' instruction\n",
    "ins = load_instructions('input_24_a.txt')\n",
    "i_list = []\n",
    "for i in range(14):                     # 14 blocks\n",
    "    i_list.append(ins[i*18:(i+1)*18])   # each 18 instructions long"
   ]
  },
  {
   "cell_type": "code",
   "execution_count": 5,
   "id": "25f4b238",
   "metadata": {
    "scrolled": true
   },
   "outputs": [
    {
     "name": "stdout",
     "output_type": "stream",
     "text": [
      "Answer = 11841231117189\n"
     ]
    }
   ],
   "source": [
    "memo = {}\n",
    "p = find_digit(i_list, 0, 0, memo)\n",
    "print(f'Answer = {p}')"
   ]
  }
 ],
 "metadata": {
  "kernelspec": {
   "display_name": "Python 3 (ipykernel)",
   "language": "python",
   "name": "python3"
  },
  "language_info": {
   "codemirror_mode": {
    "name": "ipython",
    "version": 3
   },
   "file_extension": ".py",
   "mimetype": "text/x-python",
   "name": "python",
   "nbconvert_exporter": "python",
   "pygments_lexer": "ipython3",
   "version": "3.8.12"
  }
 },
 "nbformat": 4,
 "nbformat_minor": 5
}
