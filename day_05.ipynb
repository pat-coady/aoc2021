{
 "cells": [
  {
   "cell_type": "markdown",
   "id": "5c6288b2",
   "metadata": {},
   "source": [
    "## Advent of Code 2021 - Day 5"
   ]
  },
  {
   "cell_type": "markdown",
   "id": "0fe2b62e",
   "metadata": {},
   "source": [
    "### Star 1"
   ]
  },
  {
   "cell_type": "code",
   "execution_count": 1,
   "id": "8d6f2aa4",
   "metadata": {},
   "outputs": [],
   "source": [
    "import numpy as np"
   ]
  },
  {
   "cell_type": "code",
   "execution_count": 2,
   "id": "e061ed4e",
   "metadata": {},
   "outputs": [],
   "source": [
    "# load coordinate pairs into ndarray: [pair number, coord1/2, x/y]\n",
    "fn = 'input_05_a.txt'\n",
    "\n",
    "with open(fn) as f:\n",
    "    lines = []\n",
    "    for line in f:\n",
    "        line = line.replace(' -> ', ',')\n",
    "        lines.append([int(x) for x in line.split(',')])\n",
    "\n",
    "coords = np.array(lines).reshape(-1, 2, 2)"
   ]
  },
  {
   "cell_type": "code",
   "execution_count": 3,
   "id": "8d3522ea",
   "metadata": {},
   "outputs": [
    {
     "name": "stdout",
     "output_type": "stream",
     "text": [
      "Number of overlaps = 5197\n"
     ]
    }
   ],
   "source": [
    "vent_map = np.zeros(coords.max(axis=(0, 1)) + 1, dtype=np.int8)\n",
    "for i in range(coords.shape[0]):\n",
    "    x1, y1 = tuple(coords[i, 0, :])\n",
    "    x2, y2 = tuple(coords[i, 1, :])\n",
    "    if x1 == x2:\n",
    "        y1, y2 = (y1, y2) if y2 > y1 else (y2, y1)  # put y1, y2 in increasing order\n",
    "        vent_map[x1, y1:(y2+1)] += 1\n",
    "    elif y1 == y2:\n",
    "        x1, x2 = (x1, x2) if x2 > x1 else (x2, x1)\n",
    "        vent_map[x1:(x2+1), y1] += 1\n",
    "        \n",
    "print(f'Number of overlaps = {(vent_map > 1).sum()}')"
   ]
  },
  {
   "cell_type": "markdown",
   "id": "8914e9ad",
   "metadata": {},
   "source": [
    "### Star 2"
   ]
  },
  {
   "cell_type": "code",
   "execution_count": 4,
   "id": "7ab63205",
   "metadata": {},
   "outputs": [
    {
     "name": "stdout",
     "output_type": "stream",
     "text": [
      "Number of overlaps = 18605\n"
     ]
    }
   ],
   "source": [
    "# add coverage for diagonals\n",
    "vent_map = np.zeros(coords.max(axis=(0, 1)) + 1, dtype=np.int8)\n",
    "for i in range(coords.shape[0]):\n",
    "    x1, y1 = tuple(coords[i, 0, :])\n",
    "    x2, y2 = tuple(coords[i, 1, :])\n",
    "    # create lists from x1 -> x2, and y1 -> y2. len=1 if x1==x2 or y1=y2\n",
    "    y_list = list(range(y1, y2+1)) if y2 > y1 else list(range(y1, y2-1, -1))\n",
    "    x_list = list(range(x1, x2+1)) if x2 > x1 else list(range(x1, x2-1, -1))\n",
    "    # repeat x1 or y1 for horizontal or vertical lines so lists are same length for zipping\n",
    "    x_list = x_list * len(y_list) if len(x_list) == 1 else x_list\n",
    "    y_list = y_list * len(x_list) if len(y_list) == 1 else y_list\n",
    "    for x, y in zip(x_list, y_list):\n",
    "        vent_map[x, y] += 1\n",
    "        \n",
    "print(f'Number of overlaps = {(vent_map > 1).sum()}')"
   ]
  }
 ],
 "metadata": {
  "kernelspec": {
   "display_name": "Python 3",
   "language": "python",
   "name": "python3"
  },
  "language_info": {
   "codemirror_mode": {
    "name": "ipython",
    "version": 3
   },
   "file_extension": ".py",
   "mimetype": "text/x-python",
   "name": "python",
   "nbconvert_exporter": "python",
   "pygments_lexer": "ipython3",
   "version": "3.7.10"
  }
 },
 "nbformat": 4,
 "nbformat_minor": 5
}
