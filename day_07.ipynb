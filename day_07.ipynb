{
 "cells": [
  {
   "cell_type": "markdown",
   "id": "5c6288b2",
   "metadata": {},
   "source": [
    "## Advent of Code 2021 - Day 7"
   ]
  },
  {
   "cell_type": "markdown",
   "id": "0fe2b62e",
   "metadata": {},
   "source": [
    "### Star 1"
   ]
  },
  {
   "cell_type": "code",
   "execution_count": 6,
   "id": "ec989058",
   "metadata": {},
   "outputs": [],
   "source": [
    "import numpy as np\n",
    "import tensorflow as tf\n",
    "import matplotlib.pyplot as plt\n",
    "%matplotlib inline"
   ]
  },
  {
   "cell_type": "code",
   "execution_count": 2,
   "id": "e061ed4e",
   "metadata": {},
   "outputs": [
    {
     "name": "stdout",
     "output_type": "stream",
     "text": [
      "Fuel used = 356958.0\n"
     ]
    }
   ],
   "source": [
    "fn = 'input_07_a.txt'\n",
    "with open(fn) as f:\n",
    "    crabs = np.array([int(x) for x in f.readline().split(',')])\n",
    "\n",
    "fuel = np.abs(crabs - np.median(crabs)).sum()\n",
    "\n",
    "print(f'Fuel used = {fuel}')"
   ]
  },
  {
   "cell_type": "markdown",
   "id": "7a3e93d9",
   "metadata": {},
   "source": [
    "### Star 2"
   ]
  },
  {
   "cell_type": "code",
   "execution_count": 3,
   "id": "5665d0a9",
   "metadata": {},
   "outputs": [],
   "source": [
    "def cost(crabs, pos):\n",
    "    return 1/2 * (np.abs(crabs-pos).sum() + np.square(crabs-pos).sum())"
   ]
  },
  {
   "cell_type": "code",
   "execution_count": 4,
   "id": "515b3ea3",
   "metadata": {},
   "outputs": [
    {
     "name": "stdout",
     "output_type": "stream",
     "text": [
      "Fuel used = 105461913.0\n"
     ]
    }
   ],
   "source": [
    "fuel_old = cost(crabs, 0)\n",
    "for pos in range(1, crabs.max()):  # linear search\n",
    "    fuel = cost(crabs, pos)\n",
    "    if fuel > fuel_old:\n",
    "        break\n",
    "    fuel_old = fuel\n",
    "    \n",
    "print(f'Fuel used = {fuel_old}')"
   ]
  },
  {
   "cell_type": "markdown",
   "id": "06d4e2b0",
   "metadata": {
    "tags": []
   },
   "source": [
    "### Star 2 - with TensorFlow"
   ]
  },
  {
   "cell_type": "code",
   "execution_count": 39,
   "id": "6d001d01-7051-4fa2-8609-8a21896f9b2f",
   "metadata": {},
   "outputs": [
    {
     "name": "stdout",
     "output_type": "stream",
     "text": [
      "Min fuel position = 464.4249267578125\n"
     ]
    }
   ],
   "source": [
    "crabs_tf = tf.constant(crabs, dtype=tf.float32)  # crab positions\n",
    "pos_tf = tf.Variable(400.0, dtype=tf.float32)    # initial guess\n",
    "lr = 1e-1                                        # learning rate\n",
    "training_curve = []\n",
    "\n",
    "for i in range(200):                             # 200 steps of gradient descent\n",
    "    with tf.GradientTape() as tape:\n",
    "        l = tf.abs(crabs_tf - pos_tf) + tf.square(crabs_tf - pos_tf)\n",
    "        loss = tf.reduce_sum(l) / 1000\n",
    "    pos_tf.assign_sub(lr * tape.gradient(loss, pos_tf))\n",
    "    training_curve.append(float(loss))\n",
    "\n",
    "print(f'Min fuel position = {float(pos_tf)}')"
   ]
  }
 ],
 "metadata": {
  "kernelspec": {
   "display_name": "Python 3 (ipykernel)",
   "language": "python",
   "name": "python3"
  },
  "language_info": {
   "codemirror_mode": {
    "name": "ipython",
    "version": 3
   },
   "file_extension": ".py",
   "mimetype": "text/x-python",
   "name": "python",
   "nbconvert_exporter": "python",
   "pygments_lexer": "ipython3",
   "version": "3.8.12"
  }
 },
 "nbformat": 4,
 "nbformat_minor": 5
}
