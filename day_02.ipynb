{
 "cells": [
  {
   "cell_type": "markdown",
   "id": "5c6288b2",
   "metadata": {},
   "source": [
    "## Advent of Code 2021\n",
    "### Day 2\n",
    "\n",
    "Part I - Was looking for clean way to use a couple lists to represent commands and state. And then map/reduce to solve. Works, but not worth the complexity.\n",
    "\n",
    "Part II - Straight ahead, get 'er done approach. Wanted to avoid branching (i.e., if's and case's)\n"
   ]
  },
  {
   "cell_type": "code",
   "execution_count": 1,
   "id": "e061ed4e",
   "metadata": {},
   "outputs": [
    {
     "name": "stdout",
     "output_type": "stream",
     "text": [
      "Depth = 807, Horizontal = 2105\n",
      "depth*horizontal = 1698735\n"
     ]
    }
   ],
   "source": [
    "# Star 1\n",
    "fn = 'input_02_a.txt'\n",
    "position = [0, 0]  # [depth, horizontal position]\n",
    "command_dict = {'forward': [0, 1],\n",
    "               'down': [1, 0],\n",
    "               'up': [-1, 0]}\n",
    "with open(fn) as f:\n",
    "    for line in f:\n",
    "        command, distance = line.split(' ')\n",
    "        distance = int(distance)\n",
    "        change_pos = map(lambda x: x * distance, command_dict[command])\n",
    "        position = list(map(lambda x, y: x + y, position, change_pos))\n",
    "        \n",
    "print(f'Depth = {position[0]}, Horizontal = {position[1]}')\n",
    "print(f'depth*horizontal = {position[0]*position[1]}')"
   ]
  },
  {
   "cell_type": "code",
   "execution_count": 2,
   "id": "d212f9b9",
   "metadata": {},
   "outputs": [
    {
     "name": "stdout",
     "output_type": "stream",
     "text": [
      "Depth = 757618, Horizontal = 2105, Aim = 807\n",
      "depth*horizontal = 1594785890\n"
     ]
    }
   ],
   "source": [
    "# Star 2\n",
    "depth, horiz, aim = (0, 0, 0)\n",
    "command_dict = {'forward': (1, 0),  # [thrust factor, aim factor]\n",
    "               'down': (0, 1),\n",
    "               'up': (0, -1)}\n",
    "with open(fn) as f:\n",
    "    for line in f:\n",
    "        command, thrust = line.split(' ')\n",
    "        thrust = int(thrust)\n",
    "        thrust_fact, aim_fact = command_dict[command]\n",
    "        aim += aim_fact * thrust \n",
    "        horiz += thrust_fact * thrust\n",
    "        depth += thrust_fact * aim * thrust\n",
    "        \n",
    "print(f\"Depth = {depth}, Horizontal = {horiz}, Aim = {aim}\")\n",
    "print(f\"depth*horizontal = {depth * horiz}\")\n"
   ]
  },
  {
   "cell_type": "code",
   "execution_count": null,
   "id": "842d3435",
   "metadata": {},
   "outputs": [],
   "source": []
  }
 ],
 "metadata": {
  "kernelspec": {
   "display_name": "Python 3",
   "language": "python",
   "name": "python3"
  },
  "language_info": {
   "codemirror_mode": {
    "name": "ipython",
    "version": 3
   },
   "file_extension": ".py",
   "mimetype": "text/x-python",
   "name": "python",
   "nbconvert_exporter": "python",
   "pygments_lexer": "ipython3",
   "version": "3.7.10"
  }
 },
 "nbformat": 4,
 "nbformat_minor": 5
}
