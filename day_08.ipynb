{
 "cells": [
  {
   "cell_type": "markdown",
   "id": "5c6288b2",
   "metadata": {},
   "source": [
    "## Advent of Code 2021 - Day 7"
   ]
  },
  {
   "cell_type": "markdown",
   "id": "0fe2b62e",
   "metadata": {},
   "source": [
    "### Star 1"
   ]
  },
  {
   "cell_type": "code",
   "execution_count": 1,
   "id": "ec989058",
   "metadata": {},
   "outputs": [],
   "source": [
    "import numpy as np\n",
    "from collections import Counter"
   ]
  },
  {
   "cell_type": "code",
   "execution_count": 2,
   "id": "e061ed4e",
   "metadata": {},
   "outputs": [
    {
     "name": "stdout",
     "output_type": "stream",
     "text": [
      "Unique digit count = 512\n"
     ]
    }
   ],
   "source": [
    "fn = 'input_08_a.txt'\n",
    "\n",
    "count = 0\n",
    "with open(fn) as f:\n",
    "    for line in f:\n",
    "        patterns, outputs = line.strip('\\n').split(' | ')\n",
    "        outputs = outputs.split(' ')\n",
    "        patterns = patterns.split(' ')\n",
    "        for digit in outputs:\n",
    "            if len(digit) in (2, 3, 4, 7):\n",
    "                count += 1\n",
    "        \n",
    "print(f'Unique digit count = {count}')"
   ]
  },
  {
   "cell_type": "markdown",
   "id": "2e6ccbda",
   "metadata": {},
   "source": [
    "### Star 2\n",
    "\n",
    "I obviously missed a clean way of doing this. Instead wrote a mess of segment and digit counts and hand-designed a bunch of tests to figure out each digit."
   ]
  },
  {
   "cell_type": "code",
   "execution_count": 3,
   "id": "e076915f",
   "metadata": {},
   "outputs": [
    {
     "name": "stdout",
     "output_type": "stream",
     "text": [
      "Total of decoded numbers = 1091165\n"
     ]
    }
   ],
   "source": [
    "display_dict = {'abcefg': '0',\n",
    "               'cf': '1',\n",
    "               'acdeg': '2',\n",
    "               'acdfg': '3',\n",
    "               'bcdf': '4',\n",
    "               'abdfg': '5',\n",
    "               'abdefg': '6',\n",
    "               'acf': '7',\n",
    "               'abcdefg': '8',\n",
    "               'abcdfg': '9'}\n",
    "\n",
    "with open(fn) as f:\n",
    "    total = 0\n",
    "    for line in f:\n",
    "        digit_dict = {}\n",
    "        wire_dict = {}\n",
    "        seg_counter = Counter()\n",
    "        patterns, outputs = line.strip('\\n').split(' | ')\n",
    "        outputs = outputs.split(' ')\n",
    "        patterns = patterns.split(' ')\n",
    "        for digit in patterns:\n",
    "            if len(digit) == 2:\n",
    "                digit_dict[1] = set(digit)\n",
    "            elif len(digit) == 3:\n",
    "                digit_dict[7] = set(digit)\n",
    "            elif len(digit) == 4:\n",
    "                digit_dict[4] = set(digit)\n",
    "            elif len(digit) == 7:\n",
    "                digit_dict[8] = set(digit)\n",
    "            seg_counter.update(digit)\n",
    "        most_common_seg = seg_counter.most_common()\n",
    "        wire_dict[most_common_seg[0][0]] = 'f'\n",
    "        b = most_common_seg[5][0]\n",
    "        wire_dict[b] = 'b'\n",
    "        bd = list(digit_dict[4].difference(digit_dict[1]))\n",
    "        bd.remove(b)\n",
    "        d = bd[0]\n",
    "        wire_dict[d] = 'd'\n",
    "        wire_dict[most_common_seg[6][0]] = 'e'\n",
    "        a = list(digit_dict[7].difference(digit_dict[1]))[0]\n",
    "        wire_dict[a] = 'a'\n",
    "        seg_counter.update(a)\n",
    "        most_common_seg = seg_counter.most_common()\n",
    "        wire_dict[most_common_seg[2][0]] = 'c'\n",
    "        seg_counter.update(d)\n",
    "        most_common_seg = seg_counter.most_common()\n",
    "        wire_dict[most_common_seg[4][0]] = 'g'\n",
    "        number = []\n",
    "        for digit in outputs:\n",
    "            digit = [wire_dict[x] for x in digit]\n",
    "            digit.sort()\n",
    "            digit = ''.join(digit)\n",
    "            number.append(display_dict[digit])\n",
    "        total += int(''.join(number))\n",
    "\n",
    "print(f'Total of decoded numbers = {total}')"
   ]
  }
 ],
 "metadata": {
  "kernelspec": {
   "display_name": "Python 3 (ipykernel)",
   "language": "python",
   "name": "python3"
  },
  "language_info": {
   "codemirror_mode": {
    "name": "ipython",
    "version": 3
   },
   "file_extension": ".py",
   "mimetype": "text/x-python",
   "name": "python",
   "nbconvert_exporter": "python",
   "pygments_lexer": "ipython3",
   "version": "3.7.11"
  }
 },
 "nbformat": 4,
 "nbformat_minor": 5
}
